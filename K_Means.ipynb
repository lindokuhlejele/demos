{
  "nbformat": 4,
  "nbformat_minor": 0,
  "metadata": {
    "colab": {
      "name": "K-Means.ipynb",
      "provenance": [],
      "collapsed_sections": [],
      "include_colab_link": true
    },
    "kernelspec": {
      "name": "python3",
      "display_name": "Python 3"
    }
  },
  "cells": [
    {
      "cell_type": "markdown",
      "metadata": {
        "id": "view-in-github",
        "colab_type": "text"
      },
      "source": [
        "<a href=\"https://colab.research.google.com/github/lindokuhlejele/demos/blob/master/K_Means.ipynb\" target=\"_parent\"><img src=\"https://colab.research.google.com/assets/colab-badge.svg\" alt=\"Open In Colab\"/></a>"
      ]
    },
    {
      "cell_type": "code",
      "metadata": {
        "id": "X-CqYXT-08NG",
        "colab_type": "code",
        "colab": {}
      },
      "source": [
        "# import library\n",
        "import pandas as pd\n",
        "import numpy as np\n",
        "import datetime as dt\n",
        "\n",
        "# for visualization\n",
        "import matplotlib.pyplot as plt\n",
        "import seaborn as sns\n",
        "\n",
        "# for machine learning algorithm\n",
        "from sklearn.preprocessing import StandardScaler\n",
        "from sklearn.cluster import KMeans"
      ],
      "execution_count": 0,
      "outputs": []
    },
    {
      "cell_type": "code",
      "metadata": {
        "id": "D5NWXJcK1btw",
        "colab_type": "code",
        "colab": {}
      },
      "source": [
        "from google.colab import files"
      ],
      "execution_count": 0,
      "outputs": []
    },
    {
      "cell_type": "code",
      "metadata": {
        "id": "H6nh8Ec01mLg",
        "colab_type": "code",
        "outputId": "c1a5764b-3497-46ae-a5cd-932cf868b95e",
        "colab": {
          "resources": {
            "http://localhost:8080/nbextensions/google.colab/files.js": {
              "data": "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",
              "ok": true,
              "headers": [
                [
                  "content-type",
                  "application/javascript"
                ]
              ],
              "status": 200,
              "status_text": ""
            }
          },
          "base_uri": "https://localhost:8080/",
          "height": 57
        }
      },
      "source": [
        "uploaded = files.upload()"
      ],
      "execution_count": 0,
      "outputs": [
        {
          "output_type": "display_data",
          "data": {
            "text/html": [
              "\n",
              "     <input type=\"file\" id=\"files-804d3082-8598-46b6-89e2-adb5eb0e5608\" name=\"files[]\" multiple disabled />\n",
              "     <output id=\"result-804d3082-8598-46b6-89e2-adb5eb0e5608\">\n",
              "      Upload widget is only available when the cell has been executed in the\n",
              "      current browser session. Please rerun this cell to enable.\n",
              "      </output>\n",
              "      <script src=\"/nbextensions/google.colab/files.js\"></script> "
            ],
            "text/plain": [
              "<IPython.core.display.HTML object>"
            ]
          },
          "metadata": {
            "tags": []
          }
        },
        {
          "output_type": "stream",
          "text": [
            "Saving Online Retail.csv to Online Retail.csv\n"
          ],
          "name": "stdout"
        }
      ]
    },
    {
      "cell_type": "code",
      "metadata": {
        "id": "DR2zr9dg4emN",
        "colab_type": "code",
        "colab": {}
      },
      "source": [
        "import io"
      ],
      "execution_count": 0,
      "outputs": []
    },
    {
      "cell_type": "code",
      "metadata": {
        "id": "q8OpiL8n4--e",
        "colab_type": "code",
        "colab": {}
      },
      "source": [
        "sample_df = pd.read_csv(io.StringIO(uploaded['Online Retail.csv'].decode('utf-8')))"
      ],
      "execution_count": 0,
      "outputs": []
    },
    {
      "cell_type": "code",
      "metadata": {
        "id": "2Apr2XTHwJbE",
        "colab_type": "code",
        "outputId": "a65907b7-ac4a-4fa2-ad5c-00c70fe7223e",
        "colab": {
          "base_uri": "https://localhost:8080/",
          "height": 359
        }
      },
      "source": [
        "sample_df.head(10)"
      ],
      "execution_count": 0,
      "outputs": [
        {
          "output_type": "execute_result",
          "data": {
            "text/html": [
              "<div>\n",
              "<style scoped>\n",
              "    .dataframe tbody tr th:only-of-type {\n",
              "        vertical-align: middle;\n",
              "    }\n",
              "\n",
              "    .dataframe tbody tr th {\n",
              "        vertical-align: top;\n",
              "    }\n",
              "\n",
              "    .dataframe thead th {\n",
              "        text-align: right;\n",
              "    }\n",
              "</style>\n",
              "<table border=\"1\" class=\"dataframe\">\n",
              "  <thead>\n",
              "    <tr style=\"text-align: right;\">\n",
              "      <th></th>\n",
              "      <th>InvoiceNo</th>\n",
              "      <th>StockCode</th>\n",
              "      <th>Description</th>\n",
              "      <th>Quantity</th>\n",
              "      <th>InvoiceDate</th>\n",
              "      <th>UnitPrice</th>\n",
              "      <th>CustomerID</th>\n",
              "      <th>Country</th>\n",
              "    </tr>\n",
              "  </thead>\n",
              "  <tbody>\n",
              "    <tr>\n",
              "      <th>0</th>\n",
              "      <td>536365</td>\n",
              "      <td>85123A</td>\n",
              "      <td>WHITE HANGING HEART T-LIGHT HOLDER</td>\n",
              "      <td>6</td>\n",
              "      <td>12/1/2010 8:26</td>\n",
              "      <td>2.55</td>\n",
              "      <td>17850.0</td>\n",
              "      <td>United Kingdom</td>\n",
              "    </tr>\n",
              "    <tr>\n",
              "      <th>1</th>\n",
              "      <td>536365</td>\n",
              "      <td>71053</td>\n",
              "      <td>WHITE METAL LANTERN</td>\n",
              "      <td>6</td>\n",
              "      <td>12/1/2010 8:26</td>\n",
              "      <td>3.39</td>\n",
              "      <td>17850.0</td>\n",
              "      <td>United Kingdom</td>\n",
              "    </tr>\n",
              "    <tr>\n",
              "      <th>2</th>\n",
              "      <td>536365</td>\n",
              "      <td>84406B</td>\n",
              "      <td>CREAM CUPID HEARTS COAT HANGER</td>\n",
              "      <td>8</td>\n",
              "      <td>12/1/2010 8:26</td>\n",
              "      <td>2.75</td>\n",
              "      <td>17850.0</td>\n",
              "      <td>United Kingdom</td>\n",
              "    </tr>\n",
              "    <tr>\n",
              "      <th>3</th>\n",
              "      <td>536365</td>\n",
              "      <td>84029G</td>\n",
              "      <td>KNITTED UNION FLAG HOT WATER BOTTLE</td>\n",
              "      <td>6</td>\n",
              "      <td>12/1/2010 8:26</td>\n",
              "      <td>3.39</td>\n",
              "      <td>17850.0</td>\n",
              "      <td>United Kingdom</td>\n",
              "    </tr>\n",
              "    <tr>\n",
              "      <th>4</th>\n",
              "      <td>536365</td>\n",
              "      <td>84029E</td>\n",
              "      <td>RED WOOLLY HOTTIE WHITE HEART.</td>\n",
              "      <td>6</td>\n",
              "      <td>12/1/2010 8:26</td>\n",
              "      <td>3.39</td>\n",
              "      <td>17850.0</td>\n",
              "      <td>United Kingdom</td>\n",
              "    </tr>\n",
              "    <tr>\n",
              "      <th>5</th>\n",
              "      <td>536365</td>\n",
              "      <td>22752</td>\n",
              "      <td>SET 7 BABUSHKA NESTING BOXES</td>\n",
              "      <td>2</td>\n",
              "      <td>12/1/2010 8:26</td>\n",
              "      <td>7.65</td>\n",
              "      <td>17850.0</td>\n",
              "      <td>United Kingdom</td>\n",
              "    </tr>\n",
              "    <tr>\n",
              "      <th>6</th>\n",
              "      <td>536365</td>\n",
              "      <td>21730</td>\n",
              "      <td>GLASS STAR FROSTED T-LIGHT HOLDER</td>\n",
              "      <td>6</td>\n",
              "      <td>12/1/2010 8:26</td>\n",
              "      <td>4.25</td>\n",
              "      <td>17850.0</td>\n",
              "      <td>United Kingdom</td>\n",
              "    </tr>\n",
              "    <tr>\n",
              "      <th>7</th>\n",
              "      <td>536366</td>\n",
              "      <td>22633</td>\n",
              "      <td>HAND WARMER UNION JACK</td>\n",
              "      <td>6</td>\n",
              "      <td>12/1/2010 8:28</td>\n",
              "      <td>1.85</td>\n",
              "      <td>17850.0</td>\n",
              "      <td>United Kingdom</td>\n",
              "    </tr>\n",
              "    <tr>\n",
              "      <th>8</th>\n",
              "      <td>536366</td>\n",
              "      <td>22632</td>\n",
              "      <td>HAND WARMER RED POLKA DOT</td>\n",
              "      <td>6</td>\n",
              "      <td>12/1/2010 8:28</td>\n",
              "      <td>1.85</td>\n",
              "      <td>17850.0</td>\n",
              "      <td>United Kingdom</td>\n",
              "    </tr>\n",
              "    <tr>\n",
              "      <th>9</th>\n",
              "      <td>536367</td>\n",
              "      <td>84879</td>\n",
              "      <td>ASSORTED COLOUR BIRD ORNAMENT</td>\n",
              "      <td>32</td>\n",
              "      <td>12/1/2010 8:34</td>\n",
              "      <td>1.69</td>\n",
              "      <td>13047.0</td>\n",
              "      <td>United Kingdom</td>\n",
              "    </tr>\n",
              "  </tbody>\n",
              "</table>\n",
              "</div>"
            ],
            "text/plain": [
              "  InvoiceNo StockCode  ... CustomerID         Country\n",
              "0    536365    85123A  ...    17850.0  United Kingdom\n",
              "1    536365     71053  ...    17850.0  United Kingdom\n",
              "2    536365    84406B  ...    17850.0  United Kingdom\n",
              "3    536365    84029G  ...    17850.0  United Kingdom\n",
              "4    536365    84029E  ...    17850.0  United Kingdom\n",
              "5    536365     22752  ...    17850.0  United Kingdom\n",
              "6    536365     21730  ...    17850.0  United Kingdom\n",
              "7    536366     22633  ...    17850.0  United Kingdom\n",
              "8    536366     22632  ...    17850.0  United Kingdom\n",
              "9    536367     84879  ...    13047.0  United Kingdom\n",
              "\n",
              "[10 rows x 8 columns]"
            ]
          },
          "metadata": {
            "tags": []
          },
          "execution_count": 7
        }
      ]
    },
    {
      "cell_type": "markdown",
      "metadata": {
        "id": "kv34Yi-4xAvz",
        "colab_type": "text"
      },
      "source": [
        "In the preceding code, I was performing the initial steps for data preprocessing which are removing duplicate values, missing value processing, data consistency processing, converting data types, and outlier processing."
      ]
    },
    {
      "cell_type": "code",
      "metadata": {
        "id": "oO5KIGsqxdws",
        "colab_type": "code",
        "outputId": "a80350fc-fa80-4994-f7c3-19a31b691c27",
        "colab": {
          "base_uri": "https://localhost:8080/",
          "height": 34
        }
      },
      "source": [
        "#1. Removing duplicate values - Here we are trying to detect if there are any duplicates from within the dataset\n",
        "Sample_df_NoDup=sample_df.drop_duplicates(subset=['InvoiceNo','StockCode','Description','Quantity','InvoiceDate','UnitPrice','CustomerID','Country'])\n",
        "dup=sample_df.shape[0]-sample_df.shape[0]\n",
        "print('duplicates =',dup)"
      ],
      "execution_count": 0,
      "outputs": [
        {
          "output_type": "stream",
          "text": [
            "duplicates = 0\n"
          ],
          "name": "stdout"
        }
      ]
    },
    {
      "cell_type": "markdown",
      "metadata": {
        "id": "Mj1SpayTyk4y",
        "colab_type": "text"
      },
      "source": [
        "So 0 duplicates were found within the dataset, and so we continue to do **missing value processing**"
      ]
    },
    {
      "cell_type": "code",
      "metadata": {
        "id": "tzVJdoxny1m9",
        "colab_type": "code",
        "outputId": "45d079d7-b8cc-4790-d0cf-1d94459507ac",
        "colab": {
          "base_uri": "https://localhost:8080/",
          "height": 34
        }
      },
      "source": [
        "#2. Missing Value processing\n",
        "# Because we want to study the user's buying behavior and product sales, we delete the missing data of user id or product id. \n",
        "Sample_df_NoDupNA=Sample_df_NoDup.dropna(subset=['InvoiceNo','CustomerID'],how='any')\n",
        "missing=Sample_df_NoDup.shape[0]-Sample_df_NoDupNA.shape[0]\n",
        "print('missings =',missing)"
      ],
      "execution_count": 0,
      "outputs": [
        {
          "output_type": "stream",
          "text": [
            "missings = 135037\n"
          ],
          "name": "stdout"
        }
      ]
    },
    {
      "cell_type": "markdown",
      "metadata": {
        "id": "4QGAtPEFzqxr",
        "colab_type": "text"
      },
      "source": [
        "So a total of 135037 records were removed. With no missing values for either customer id or invoice no, we can now easily measure each customer's buying behaviors."
      ]
    },
    {
      "cell_type": "code",
      "metadata": {
        "id": "OZ4A4MOZ0Pb4",
        "colab_type": "code",
        "outputId": "e72cc2f9-1ab7-4ef5-b29f-38f351a6ebe7",
        "colab": {
          "base_uri": "https://localhost:8080/",
          "height": 170
        }
      },
      "source": [
        "#3. Data consistency processing\n",
        "#Before we check for any data inconsistencies, we need to define our dataset i.e. we need to know data types for each column\n",
        "sample_df.dtypes"
      ],
      "execution_count": 0,
      "outputs": [
        {
          "output_type": "execute_result",
          "data": {
            "text/plain": [
              "InvoiceNo       object\n",
              "StockCode       object\n",
              "Description     object\n",
              "Quantity         int64\n",
              "InvoiceDate     object\n",
              "UnitPrice      float64\n",
              "CustomerID     float64\n",
              "Country         object\n",
              "dtype: object"
            ]
          },
          "metadata": {
            "tags": []
          },
          "execution_count": 10
        }
      ]
    },
    {
      "cell_type": "code",
      "metadata": {
        "id": "5GsM6hiB1MkP",
        "colab_type": "code",
        "outputId": "3a05accc-c569-4142-959a-3f1576613905",
        "colab": {
          "base_uri": "https://localhost:8080/",
          "height": 391
        }
      },
      "source": [
        "#3. Data consistency processing\n",
        "# we notice that quantity is an int64 variable. Since we might want to do mathematical calculations on quantity and unit price, we'll make the the same data types\n",
        "# so we conver quantity to float64 as well and show the new data types after the changes\n",
        "Sample_df_NoDupNA['Quantity']=Sample_df_NoDupNA['Quantity'].astype('float')\n",
        "Sample_df_NoDupNA['UnitPrice']=Sample_df_NoDupNA['UnitPrice'].astype('float')\n",
        "print('Data type after changing:\\n',Sample_df_NoDupNA.dtypes) \n"
      ],
      "execution_count": 0,
      "outputs": [
        {
          "output_type": "stream",
          "text": [
            "Data type after changing:\n",
            " InvoiceNo       object\n",
            "StockCode       object\n",
            "Description     object\n",
            "Quantity       float64\n",
            "InvoiceDate     object\n",
            "UnitPrice      float64\n",
            "CustomerID     float64\n",
            "Country         object\n",
            "dtype: object\n"
          ],
          "name": "stdout"
        },
        {
          "output_type": "stream",
          "text": [
            "/usr/local/lib/python3.6/dist-packages/ipykernel_launcher.py:1: SettingWithCopyWarning: \n",
            "A value is trying to be set on a copy of a slice from a DataFrame.\n",
            "Try using .loc[row_indexer,col_indexer] = value instead\n",
            "\n",
            "See the caveats in the documentation: http://pandas.pydata.org/pandas-docs/stable/user_guide/indexing.html#returning-a-view-versus-a-copy\n",
            "  \"\"\"Entry point for launching an IPython kernel.\n",
            "/usr/local/lib/python3.6/dist-packages/ipykernel_launcher.py:2: SettingWithCopyWarning: \n",
            "A value is trying to be set on a copy of a slice from a DataFrame.\n",
            "Try using .loc[row_indexer,col_indexer] = value instead\n",
            "\n",
            "See the caveats in the documentation: http://pandas.pydata.org/pandas-docs/stable/user_guide/indexing.html#returning-a-view-versus-a-copy\n",
            "  \n"
          ],
          "name": "stderr"
        }
      ]
    },
    {
      "cell_type": "code",
      "metadata": {
        "id": "nUS_VJvNkfro",
        "colab_type": "code",
        "outputId": "a0410227-bae2-4d14-c971-9a770d67cd6e",
        "colab": {
          "base_uri": "https://localhost:8080/",
          "height": 119
        }
      },
      "source": [
        "#3. We might also want to change the data type for invoice date from 'object' to a 'datetime' datatype since it displays date and time\n",
        "# we would split it in future if the need arises\n",
        "Sample_df_NoDupNA['InvoiceDate'] = Sample_df_NoDupNA['InvoiceDate'].astype('datetime64[ns]')"
      ],
      "execution_count": 0,
      "outputs": [
        {
          "output_type": "stream",
          "text": [
            "/usr/local/lib/python3.6/dist-packages/ipykernel_launcher.py:1: SettingWithCopyWarning: \n",
            "A value is trying to be set on a copy of a slice from a DataFrame.\n",
            "Try using .loc[row_indexer,col_indexer] = value instead\n",
            "\n",
            "See the caveats in the documentation: http://pandas.pydata.org/pandas-docs/stable/user_guide/indexing.html#returning-a-view-versus-a-copy\n",
            "  \"\"\"Entry point for launching an IPython kernel.\n"
          ],
          "name": "stderr"
        }
      ]
    },
    {
      "cell_type": "code",
      "metadata": {
        "id": "g5pM_nnDlzX9",
        "colab_type": "code",
        "outputId": "076d5a5f-22cd-4c69-b1ed-0ec4bae9c35b",
        "colab": {
          "base_uri": "https://localhost:8080/",
          "height": 187
        }
      },
      "source": [
        "#3. Displaying the changed invoice date data type\n",
        "print('Date data type:\\n',Sample_df_NoDupNA.dtypes)"
      ],
      "execution_count": 0,
      "outputs": [
        {
          "output_type": "stream",
          "text": [
            "Date data type:\n",
            " InvoiceNo              object\n",
            "StockCode              object\n",
            "Description            object\n",
            "Quantity              float64\n",
            "InvoiceDate    datetime64[ns]\n",
            "UnitPrice             float64\n",
            "CustomerID            float64\n",
            "Country                object\n",
            "dtype: object\n"
          ],
          "name": "stdout"
        }
      ]
    },
    {
      "cell_type": "code",
      "metadata": {
        "id": "sHVG7UcUnFCt",
        "colab_type": "code",
        "colab": {}
      },
      "source": [
        "#3. Data that does not match the date format during the data conversion process will be converted to a null value. \n",
        "#so again, we delete the missing value.\n",
        "Sample_df_NoDupNA=Sample_df_NoDupNA.dropna(subset=['InvoiceNo','CustomerID','InvoiceDate'],how='any')"
      ],
      "execution_count": 0,
      "outputs": []
    },
    {
      "cell_type": "code",
      "metadata": {
        "id": "7voxTdf5oF6Z",
        "colab_type": "code",
        "outputId": "34ccbbeb-ed80-4d88-ec81-8476699d6a28",
        "colab": {
          "base_uri": "https://localhost:8080/",
          "height": 297
        }
      },
      "source": [
        "#4. Outlier processing\n",
        "#We can define an outlier as a rare chance of occurrence within a given data set.\n",
        "\n",
        "#Before we do any outlier processing, we need to check if there are any outliers from within the dataset\n",
        "Sample_df_NoDupNA.describe()"
      ],
      "execution_count": 0,
      "outputs": [
        {
          "output_type": "execute_result",
          "data": {
            "text/html": [
              "<div>\n",
              "<style scoped>\n",
              "    .dataframe tbody tr th:only-of-type {\n",
              "        vertical-align: middle;\n",
              "    }\n",
              "\n",
              "    .dataframe tbody tr th {\n",
              "        vertical-align: top;\n",
              "    }\n",
              "\n",
              "    .dataframe thead th {\n",
              "        text-align: right;\n",
              "    }\n",
              "</style>\n",
              "<table border=\"1\" class=\"dataframe\">\n",
              "  <thead>\n",
              "    <tr style=\"text-align: right;\">\n",
              "      <th></th>\n",
              "      <th>Quantity</th>\n",
              "      <th>UnitPrice</th>\n",
              "      <th>CustomerID</th>\n",
              "    </tr>\n",
              "  </thead>\n",
              "  <tbody>\n",
              "    <tr>\n",
              "      <th>count</th>\n",
              "      <td>401604.000000</td>\n",
              "      <td>401604.000000</td>\n",
              "      <td>401604.000000</td>\n",
              "    </tr>\n",
              "    <tr>\n",
              "      <th>mean</th>\n",
              "      <td>12.183273</td>\n",
              "      <td>3.474064</td>\n",
              "      <td>15281.160818</td>\n",
              "    </tr>\n",
              "    <tr>\n",
              "      <th>std</th>\n",
              "      <td>250.283037</td>\n",
              "      <td>69.764035</td>\n",
              "      <td>1714.006089</td>\n",
              "    </tr>\n",
              "    <tr>\n",
              "      <th>min</th>\n",
              "      <td>-80995.000000</td>\n",
              "      <td>0.000000</td>\n",
              "      <td>12346.000000</td>\n",
              "    </tr>\n",
              "    <tr>\n",
              "      <th>25%</th>\n",
              "      <td>2.000000</td>\n",
              "      <td>1.250000</td>\n",
              "      <td>13939.000000</td>\n",
              "    </tr>\n",
              "    <tr>\n",
              "      <th>50%</th>\n",
              "      <td>5.000000</td>\n",
              "      <td>1.950000</td>\n",
              "      <td>15145.000000</td>\n",
              "    </tr>\n",
              "    <tr>\n",
              "      <th>75%</th>\n",
              "      <td>12.000000</td>\n",
              "      <td>3.750000</td>\n",
              "      <td>16784.000000</td>\n",
              "    </tr>\n",
              "    <tr>\n",
              "      <th>max</th>\n",
              "      <td>80995.000000</td>\n",
              "      <td>38970.000000</td>\n",
              "      <td>18287.000000</td>\n",
              "    </tr>\n",
              "  </tbody>\n",
              "</table>\n",
              "</div>"
            ],
            "text/plain": [
              "            Quantity      UnitPrice     CustomerID\n",
              "count  401604.000000  401604.000000  401604.000000\n",
              "mean       12.183273       3.474064   15281.160818\n",
              "std       250.283037      69.764035    1714.006089\n",
              "min    -80995.000000       0.000000   12346.000000\n",
              "25%         2.000000       1.250000   13939.000000\n",
              "50%         5.000000       1.950000   15145.000000\n",
              "75%        12.000000       3.750000   16784.000000\n",
              "max     80995.000000   38970.000000   18287.000000"
            ]
          },
          "metadata": {
            "tags": []
          },
          "execution_count": 19
        }
      ]
    },
    {
      "cell_type": "code",
      "metadata": {
        "id": "cAI7QE8RrnBK",
        "colab_type": "code",
        "outputId": "f750a462-0f49-4608-9608-9c817e6050dd",
        "colab": {
          "base_uri": "https://localhost:8080/",
          "height": 34
        }
      },
      "source": [
        "#4. Outlier processing\n",
        "#From the above output, the minimum number of products purchased in the description indicator is '-8095', and the unit price of the product is '0'\n",
        "#This is an example of an unusual occurance (a negative quantity and a 0 unit price)\n",
        "\n",
        "#To solve this we need to delete the abnormal value to filter out the appropriate data\n",
        "#So we only include data with qunatity>0 and Unit price>0\n",
        "\n",
        "querySer=Sample_df_NoDupNA.loc[:,'Quantity']>0\n",
        "Sample_df_NoDupNA=Sample_df_NoDupNA.loc[querySer,:]\n",
        "querySer1=Sample_df_NoDupNA.loc[:,'UnitPrice']>0\n",
        "Sample_df_NoDupNA=Sample_df_NoDupNA.loc[querySer1,:]\n",
        "print('after delete outlier:',Sample_df_NoDupNA.shape)"
      ],
      "execution_count": 0,
      "outputs": [
        {
          "output_type": "stream",
          "text": [
            "after delete outlier: (392692, 8)\n"
          ],
          "name": "stdout"
        }
      ]
    },
    {
      "cell_type": "code",
      "metadata": {
        "id": "y7OUr6Z_t8HX",
        "colab_type": "code",
        "outputId": "251e749b-b490-4385-d012-c0f63e6ecc93",
        "colab": {
          "base_uri": "https://localhost:8080/",
          "height": 297
        }
      },
      "source": [
        "#4. Outlier processing\n",
        "#After two conditions are judged, the data set size is (392692, 10). \n",
        "#In order to check the processed result, we check the description index again:\n",
        "\n",
        "Sample_df_NoDupNA.describe()"
      ],
      "execution_count": 0,
      "outputs": [
        {
          "output_type": "execute_result",
          "data": {
            "text/html": [
              "<div>\n",
              "<style scoped>\n",
              "    .dataframe tbody tr th:only-of-type {\n",
              "        vertical-align: middle;\n",
              "    }\n",
              "\n",
              "    .dataframe tbody tr th {\n",
              "        vertical-align: top;\n",
              "    }\n",
              "\n",
              "    .dataframe thead th {\n",
              "        text-align: right;\n",
              "    }\n",
              "</style>\n",
              "<table border=\"1\" class=\"dataframe\">\n",
              "  <thead>\n",
              "    <tr style=\"text-align: right;\">\n",
              "      <th></th>\n",
              "      <th>Quantity</th>\n",
              "      <th>UnitPrice</th>\n",
              "      <th>CustomerID</th>\n",
              "    </tr>\n",
              "  </thead>\n",
              "  <tbody>\n",
              "    <tr>\n",
              "      <th>count</th>\n",
              "      <td>392692.000000</td>\n",
              "      <td>392692.000000</td>\n",
              "      <td>392692.000000</td>\n",
              "    </tr>\n",
              "    <tr>\n",
              "      <th>mean</th>\n",
              "      <td>13.119702</td>\n",
              "      <td>3.125914</td>\n",
              "      <td>15287.843865</td>\n",
              "    </tr>\n",
              "    <tr>\n",
              "      <th>std</th>\n",
              "      <td>180.492832</td>\n",
              "      <td>22.241836</td>\n",
              "      <td>1713.539549</td>\n",
              "    </tr>\n",
              "    <tr>\n",
              "      <th>min</th>\n",
              "      <td>1.000000</td>\n",
              "      <td>0.001000</td>\n",
              "      <td>12346.000000</td>\n",
              "    </tr>\n",
              "    <tr>\n",
              "      <th>25%</th>\n",
              "      <td>2.000000</td>\n",
              "      <td>1.250000</td>\n",
              "      <td>13955.000000</td>\n",
              "    </tr>\n",
              "    <tr>\n",
              "      <th>50%</th>\n",
              "      <td>6.000000</td>\n",
              "      <td>1.950000</td>\n",
              "      <td>15150.000000</td>\n",
              "    </tr>\n",
              "    <tr>\n",
              "      <th>75%</th>\n",
              "      <td>12.000000</td>\n",
              "      <td>3.750000</td>\n",
              "      <td>16791.000000</td>\n",
              "    </tr>\n",
              "    <tr>\n",
              "      <th>max</th>\n",
              "      <td>80995.000000</td>\n",
              "      <td>8142.750000</td>\n",
              "      <td>18287.000000</td>\n",
              "    </tr>\n",
              "  </tbody>\n",
              "</table>\n",
              "</div>"
            ],
            "text/plain": [
              "            Quantity      UnitPrice     CustomerID\n",
              "count  392692.000000  392692.000000  392692.000000\n",
              "mean       13.119702       3.125914   15287.843865\n",
              "std       180.492832      22.241836    1713.539549\n",
              "min         1.000000       0.001000   12346.000000\n",
              "25%         2.000000       1.250000   13955.000000\n",
              "50%         6.000000       1.950000   15150.000000\n",
              "75%        12.000000       3.750000   16791.000000\n",
              "max     80995.000000    8142.750000   18287.000000"
            ]
          },
          "metadata": {
            "tags": []
          },
          "execution_count": 21
        }
      ]
    },
    {
      "cell_type": "code",
      "metadata": {
        "id": "LpqJMBKgvjLa",
        "colab_type": "code",
        "outputId": "2d3db415-3f79-4ea6-dc48-3f7baa38fb72",
        "colab": {
          "base_uri": "https://localhost:8080/",
          "height": 34
        }
      },
      "source": [
        "#5. Data Size\n",
        "#Finally we would wanna limit the size of the data to be a 12 month period\n",
        "#The original data spans from 2010-12-1 to 2011-12-9, which approximatelty 1 year and and 8 days\n",
        "#This makes the data in December less than a month\n",
        "\n",
        "#For the convenience of analysis and discussion, we only consider the following period: 2010-12-01 to 2011-11-30, 12 months.\n",
        "querySer2=Sample_df_NoDupNA.loc[:,'InvoiceDate']<'2011-12-01'\n",
        "Sample_df_NoDupNA=Sample_df_NoDupNA.loc[querySer2,:]\n",
        "print('delect data after 2011-11-30:',Sample_df_NoDupNA.shape)\n"
      ],
      "execution_count": 0,
      "outputs": [
        {
          "output_type": "stream",
          "text": [
            "delect data after 2011-11-30: (375666, 8)\n"
          ],
          "name": "stdout"
        }
      ]
    },
    {
      "cell_type": "markdown",
      "metadata": {
        "id": "BNWwDXa4yZaS",
        "colab_type": "text"
      },
      "source": [
        "**6. DESCRIPTIVE STATISTICAL ANALYSIS AND K-MEANS CLUSTERING**"
      ]
    },
    {
      "cell_type": "code",
      "metadata": {
        "id": "dhIdOqaPxM6K",
        "colab_type": "code",
        "outputId": "c36120ec-73f9-4e1b-9c44-f8a5bd255633",
        "colab": {
          "base_uri": "https://localhost:8080/",
          "height": 204
        }
      },
      "source": [
        "#6. Descriptive statistical analysis\n",
        "#For the purpose of this analysis:\n",
        "#The e-retail data analysis indicators applicable to this analysis include two categories. \n",
        "#The first is operational indicators, which can help e-commerce retailers understand their operation, identify consumer habits and optimize operational structure and improv efficiency. \n",
        "#the second category is RFM indicators. RFM (R-Recency, F-Frequency, M-Monetary) is a commonly used method for identifying value users. \n",
        "#Value users are often the users with small proportion but contribute large sales and profit.\n",
        "\n",
        "#This is the customer population that e-commerce companies need to pay attention to. \n",
        "#For this we will use the K-means clustering algorithm to group users, and focus on determining the consumer behavior habits of value users.\n",
        "\n",
        "#6.1 Calculation of operational indicators\n",
        "\n",
        "#--6.1.1 Checking for monthly transactions--\n",
        "\n",
        "#Firstly, i forgot to split the date into month and year so I'll start by doing that:\n",
        "Sample_df_NoDupNA['Month'] = pd.DatetimeIndex(Sample_df_NoDupNA['InvoiceDate']).month\n",
        "Sample_df_NoDupNA['Year'] = pd.DatetimeIndex(Sample_df_NoDupNA['InvoiceDate']).year\n",
        "\n",
        "Sample_df_NoDupNA.head()"
      ],
      "execution_count": 0,
      "outputs": [
        {
          "output_type": "execute_result",
          "data": {
            "text/html": [
              "<div>\n",
              "<style scoped>\n",
              "    .dataframe tbody tr th:only-of-type {\n",
              "        vertical-align: middle;\n",
              "    }\n",
              "\n",
              "    .dataframe tbody tr th {\n",
              "        vertical-align: top;\n",
              "    }\n",
              "\n",
              "    .dataframe thead th {\n",
              "        text-align: right;\n",
              "    }\n",
              "</style>\n",
              "<table border=\"1\" class=\"dataframe\">\n",
              "  <thead>\n",
              "    <tr style=\"text-align: right;\">\n",
              "      <th></th>\n",
              "      <th>InvoiceNo</th>\n",
              "      <th>StockCode</th>\n",
              "      <th>Description</th>\n",
              "      <th>Quantity</th>\n",
              "      <th>InvoiceDate</th>\n",
              "      <th>UnitPrice</th>\n",
              "      <th>CustomerID</th>\n",
              "      <th>Country</th>\n",
              "      <th>Month</th>\n",
              "      <th>Year</th>\n",
              "    </tr>\n",
              "  </thead>\n",
              "  <tbody>\n",
              "    <tr>\n",
              "      <th>0</th>\n",
              "      <td>536365</td>\n",
              "      <td>85123A</td>\n",
              "      <td>WHITE HANGING HEART T-LIGHT HOLDER</td>\n",
              "      <td>6.0</td>\n",
              "      <td>2010-12-01 08:26:00</td>\n",
              "      <td>2.55</td>\n",
              "      <td>17850.0</td>\n",
              "      <td>United Kingdom</td>\n",
              "      <td>12</td>\n",
              "      <td>2010</td>\n",
              "    </tr>\n",
              "    <tr>\n",
              "      <th>1</th>\n",
              "      <td>536365</td>\n",
              "      <td>71053</td>\n",
              "      <td>WHITE METAL LANTERN</td>\n",
              "      <td>6.0</td>\n",
              "      <td>2010-12-01 08:26:00</td>\n",
              "      <td>3.39</td>\n",
              "      <td>17850.0</td>\n",
              "      <td>United Kingdom</td>\n",
              "      <td>12</td>\n",
              "      <td>2010</td>\n",
              "    </tr>\n",
              "    <tr>\n",
              "      <th>2</th>\n",
              "      <td>536365</td>\n",
              "      <td>84406B</td>\n",
              "      <td>CREAM CUPID HEARTS COAT HANGER</td>\n",
              "      <td>8.0</td>\n",
              "      <td>2010-12-01 08:26:00</td>\n",
              "      <td>2.75</td>\n",
              "      <td>17850.0</td>\n",
              "      <td>United Kingdom</td>\n",
              "      <td>12</td>\n",
              "      <td>2010</td>\n",
              "    </tr>\n",
              "    <tr>\n",
              "      <th>3</th>\n",
              "      <td>536365</td>\n",
              "      <td>84029G</td>\n",
              "      <td>KNITTED UNION FLAG HOT WATER BOTTLE</td>\n",
              "      <td>6.0</td>\n",
              "      <td>2010-12-01 08:26:00</td>\n",
              "      <td>3.39</td>\n",
              "      <td>17850.0</td>\n",
              "      <td>United Kingdom</td>\n",
              "      <td>12</td>\n",
              "      <td>2010</td>\n",
              "    </tr>\n",
              "    <tr>\n",
              "      <th>4</th>\n",
              "      <td>536365</td>\n",
              "      <td>84029E</td>\n",
              "      <td>RED WOOLLY HOTTIE WHITE HEART.</td>\n",
              "      <td>6.0</td>\n",
              "      <td>2010-12-01 08:26:00</td>\n",
              "      <td>3.39</td>\n",
              "      <td>17850.0</td>\n",
              "      <td>United Kingdom</td>\n",
              "      <td>12</td>\n",
              "      <td>2010</td>\n",
              "    </tr>\n",
              "  </tbody>\n",
              "</table>\n",
              "</div>"
            ],
            "text/plain": [
              "  InvoiceNo StockCode  ... Month  Year\n",
              "0    536365    85123A  ...    12  2010\n",
              "1    536365     71053  ...    12  2010\n",
              "2    536365    84406B  ...    12  2010\n",
              "3    536365    84029G  ...    12  2010\n",
              "4    536365    84029E  ...    12  2010\n",
              "\n",
              "[5 rows x 10 columns]"
            ]
          },
          "metadata": {
            "tags": []
          },
          "execution_count": 26
        }
      ]
    },
    {
      "cell_type": "code",
      "metadata": {
        "id": "0e2_lr8V2V8m",
        "colab_type": "code",
        "outputId": "676e558b-efe8-4ac4-b47b-c8e22e7f92f7",
        "colab": {
          "base_uri": "https://localhost:8080/",
          "height": 272
        }
      },
      "source": [
        "#--6.1.1 Checking for monthly transactions--\n",
        "#The code below retrieves the number of transactions per sales month\n",
        "#The calculation results show that the sales orders in September, October, and November 2010 are generally higher than other months, and November 2011 \n",
        "#produced the highest value of 2,657. \n",
        "#It is possible to conclude that the online store had a year-end promotion or seasonal users purchased a large number of winter products. \n",
        "#This can be confirmed by querying the product with the highest sales share.\n",
        "\n",
        "transUni=Sample_df_NoDupNA.drop_duplicates(subset=['InvoiceNo'])\n",
        "monthly_trans=transUni.groupby(['Year','Month'])['InvoiceNo'].count()\n",
        "print('monthly transaction :\\n',monthly_trans)"
      ],
      "execution_count": 0,
      "outputs": [
        {
          "output_type": "stream",
          "text": [
            "monthly transaction :\n",
            " Year  Month\n",
            "2010  12       1400\n",
            "2011  1         987\n",
            "      2         997\n",
            "      3        1321\n",
            "      4        1149\n",
            "      5        1555\n",
            "      6        1393\n",
            "      7        1331\n",
            "      8        1280\n",
            "      9        1755\n",
            "      10       1929\n",
            "      11       2657\n",
            "Name: InvoiceNo, dtype: int64\n"
          ],
          "name": "stdout"
        }
      ]
    },
    {
      "cell_type": "code",
      "metadata": {
        "id": "OqI1SXwJ6B7W",
        "colab_type": "code",
        "outputId": "5e76ac5c-7156-4f2a-ec2c-4537b7d33834",
        "colab": {
          "base_uri": "https://localhost:8080/",
          "height": 272
        }
      },
      "source": [
        "#--6.1.2 Monthly sales--\n",
        "#In terms of sales, although transactions were relatively high in 2010, sales were not as high. \n",
        "#Monthly sales in September, October and November 2011 are significantly higher than other months.\n",
        "Sample_df_NoDupNA['Amount']=Sample_df_NoDupNA.Quantity*Sample_df_NoDupNA.UnitPrice\n",
        "monthly_sales=Sample_df_NoDupNA.groupby(['Year','Month'])['Amount'].sum()\n",
        "print('monthly sales:\\n',monthly_sales)"
      ],
      "execution_count": 0,
      "outputs": [
        {
          "output_type": "stream",
          "text": [
            "monthly sales:\n",
            " Year  Month\n",
            "2010  12        570422.730\n",
            "2011  1         568101.310\n",
            "      2         446084.920\n",
            "      3         594081.760\n",
            "      4         468374.331\n",
            "      5         677355.150\n",
            "      6         660046.050\n",
            "      7         598962.901\n",
            "      8         644051.040\n",
            "      9         950690.202\n",
            "      10       1035642.450\n",
            "      11       1156205.610\n",
            "Name: Amount, dtype: float64\n"
          ],
          "name": "stdout"
        }
      ]
    },
    {
      "cell_type": "code",
      "metadata": {
        "id": "AgMmP8fs8sdX",
        "colab_type": "code",
        "outputId": "70f48045-1f28-4fca-823c-dc07241c79be",
        "colab": {
          "base_uri": "https://localhost:8080/",
          "height": 34
        }
      },
      "source": [
        "#--6.1.3 Monthly average sales--\n",
        "#It is calculated that the monthly average sales amount is around 697,501.54 pounds.\n",
        "#But monthly sales in September, October and November 2011 are much higher than the monthly average sales.\n",
        "monthSales=Sample_df_NoDupNA.groupby(['Year','Month'])['Amount'].sum()\n",
        "avg_monthSales=round(monthSales.sum()/12,2)\n",
        "print('Average of monthly sales:',avg_monthSales)"
      ],
      "execution_count": 0,
      "outputs": [
        {
          "output_type": "stream",
          "text": [
            "Average of monthly sales: 697501.54\n"
          ],
          "name": "stdout"
        }
      ]
    },
    {
      "cell_type": "code",
      "metadata": {
        "id": "5W8eMrsk9ccf",
        "colab_type": "code",
        "outputId": "48adf8cf-e195-408f-81f3-0b3f0c7db80f",
        "colab": {
          "base_uri": "https://localhost:8080/",
          "height": 170
        }
      },
      "source": [
        "#--6.1.4 Weekly transactions--\n",
        "#before checking for weekly transactions, we had to create a 'week' column\n",
        "#First determine what the week of each transaction date corresponds to, herein we use a number to indicate which day is.\n",
        "Sample_df_NoDupNA['Week']=Sample_df_NoDupNA.InvoiceDate.map(lambda x:x.weekday())\n",
        "Sample_df_NoDupNA.head()\n",
        "\n",
        "transUni=Sample_df_NoDupNA.drop_duplicates(subset=['InvoiceNo'])\n",
        "weekly_trans=transUni.groupby(['Week'])['InvoiceNo'].count()\n",
        "print('weekly transaction:\\n',weekly_trans)\n",
        "\n"
      ],
      "execution_count": 0,
      "outputs": [
        {
          "output_type": "stream",
          "text": [
            "weekly transaction:\n",
            " Week\n",
            "0    2747\n",
            "1    3074\n",
            "2    3351\n",
            "3    3801\n",
            "4    2674\n",
            "6    2107\n",
            "Name: InvoiceNo, dtype: int64\n"
          ],
          "name": "stdout"
        }
      ]
    },
    {
      "cell_type": "code",
      "metadata": {
        "id": "3IExp7zv-W68",
        "colab_type": "code",
        "outputId": "96f16189-d500-418b-da48-7e9e3cd977cf",
        "colab": {
          "base_uri": "https://localhost:8080/",
          "height": 34
        }
      },
      "source": [
        "#--6.1.4 We notice that there is no number 5 from the output\n",
        "#So we check whether the dataset contaiins number 5 or not\n",
        "#It is confirmed that there is no number 5. According to the original data set, the number of 5 corresponds to Saturday.\n",
        "#We might conclude the system being offline or under maintenance on a saturday\n",
        "#It might also be possible that the e-commerce store does not operate on a saturday\n",
        "Sample_df_NoDupNA.Week.unique()\n"
      ],
      "execution_count": 0,
      "outputs": [
        {
          "output_type": "execute_result",
          "data": {
            "text/plain": [
              "array([2, 3, 4, 6, 0, 1])"
            ]
          },
          "metadata": {
            "tags": []
          },
          "execution_count": 37
        }
      ]
    },
    {
      "cell_type": "code",
      "metadata": {
        "id": "0VeaS5V7_wqg",
        "colab_type": "code",
        "outputId": "309fce54-fe26-43a9-a067-9c768e3d8350",
        "colab": {
          "base_uri": "https://localhost:8080/",
          "height": 170
        }
      },
      "source": [
        "#--6.1.5 Weekly sales--\n",
        "weeklySales=Sample_df_NoDupNA.groupby(['Week'])['Amount'].sum()\n",
        "print('weekly sales:\\n',weeklySales)"
      ],
      "execution_count": 0,
      "outputs": [
        {
          "output_type": "stream",
          "text": [
            "weekly sales:\n",
            " Week\n",
            "0    1305523.311\n",
            "1    1651744.141\n",
            "2    1515053.230\n",
            "3    1878214.400\n",
            "4    1254225.051\n",
            "6     765258.321\n",
            "Name: Amount, dtype: float64\n"
          ],
          "name": "stdout"
        }
      ]
    },
    {
      "cell_type": "code",
      "metadata": {
        "id": "aLJsx6B9__nR",
        "colab_type": "code",
        "outputId": "04da216c-eebb-42a3-dec7-77da86bc3ab7",
        "colab": {
          "base_uri": "https://localhost:8080/",
          "height": 34
        }
      },
      "source": [
        "#--6.1.6 Average weekly sales--\n",
        "#The result is 160,961.89 euros, which is the average weekly sales\n",
        "#The average weekly sales are less than any weekly sales, this means operators need to initially evaluate the sales for each week.\n",
        "avg_weeklySales=round(weeklySales.sum()/52,2)\n",
        "print('Average of weekly sales:',avg_weeklySales)"
      ],
      "execution_count": 0,
      "outputs": [
        {
          "output_type": "stream",
          "text": [
            "Average of weekly sales: 160961.89\n"
          ],
          "name": "stdout"
        }
      ]
    },
    {
      "cell_type": "code",
      "metadata": {
        "id": "w_9f2QgjAzNW",
        "colab_type": "code",
        "outputId": "4e675750-a731-42ac-a325-eb91c2368bca",
        "colab": {
          "base_uri": "https://localhost:8080/",
          "height": 34
        }
      },
      "source": [
        "#--6.1.7 Sales per customer--\n",
        "#Sales per customer = total sales / total number of customers, the calculation result unit price is 1947.87 euros\n",
        "#that is, the average contribution per consumer in that year is 1947.87 euros.\n",
        "total_Sales=Sample_df_NoDupNA.Amount.sum()\n",
        "total_customer=Sample_df_NoDupNA.drop_duplicates(subset=['CustomerID']).shape[0]\n",
        "#Sales per customer algorithm\n",
        "sales_perCustomer=round(total_Sales/total_customer,2)\n",
        "print('sales per customer=',sales_perCustomer)"
      ],
      "execution_count": 0,
      "outputs": [
        {
          "output_type": "stream",
          "text": [
            "sales per customer= 1947.87\n"
          ],
          "name": "stdout"
        }
      ]
    },
    {
      "cell_type": "code",
      "metadata": {
        "id": "_yUUA-0rBUI9",
        "colab_type": "code",
        "outputId": "b07562ab-ae29-4307-9a83-6fbcaaac1ffd",
        "colab": {
          "base_uri": "https://localhost:8080/",
          "height": 34
        }
      },
      "source": [
        "#--6.1.8 Sales per item--\n",
        "#Sales per item = total sales / total number of products sold, the average price per product is 1.72 euros.\n",
        "total_product=Sample_df_NoDupNA.Quantity.sum()\n",
        "#Sales per item\n",
        "sale_perItem=round(total_Sales/total_product,2)\n",
        "print('sales per item=',sale_perItem)"
      ],
      "execution_count": 0,
      "outputs": [
        {
          "output_type": "stream",
          "text": [
            "sales per item= 1.72\n"
          ],
          "name": "stdout"
        }
      ]
    },
    {
      "cell_type": "markdown",
      "metadata": {
        "id": "Hpz8w6XgCl9h",
        "colab_type": "text"
      },
      "source": [
        "**7 Calculation of RFM indicators**\n",
        "To identify value users (users who have more impact on sales of the online store) I've researched and found that the **RFM Model** is one of the classic methods for identifying value users. The model describes 3 variables namely **Recency, Frequency, and Monetary**"
      ]
    },
    {
      "cell_type": "code",
      "metadata": {
        "id": "G1ivTNvCHQpH",
        "colab_type": "code",
        "outputId": "df6482f6-663f-4569-eb29-58f7b668df06",
        "colab": {
          "base_uri": "https://localhost:8080/",
          "height": 136
        }
      },
      "source": [
        "#7.1 Recency\n",
        "#Recency is defined as time in month since the last purchase.\n",
        "#i.e. how recent a purchase took place after the last purchase\n",
        "Last_purchase=Sample_df_NoDupNA.groupby(['CustomerID']).InvoiceDate.max()\n",
        "First_purchase=Sample_df_NoDupNA.groupby(['CustomerID']).InvoiceDate.min()\n",
        "Last_purchase.head()\n",
        "First_purchase.head()"
      ],
      "execution_count": 0,
      "outputs": [
        {
          "output_type": "execute_result",
          "data": {
            "text/plain": [
              "CustomerID\n",
              "12346.0   2011-01-18 10:01:00\n",
              "12347.0   2010-12-07 14:57:00\n",
              "12348.0   2010-12-16 19:09:00\n",
              "12349.0   2011-11-21 09:51:00\n",
              "12350.0   2011-02-02 16:01:00\n",
              "Name: InvoiceDate, dtype: datetime64[ns]"
            ]
          },
          "metadata": {
            "tags": []
          },
          "execution_count": 46
        }
      ]
    },
    {
      "cell_type": "code",
      "metadata": {
        "id": "N3amcHFwIBKh",
        "colab_type": "code",
        "outputId": "e91eda20-d506-4389-cf7c-ef5c8774e9c4",
        "colab": {
          "base_uri": "https://localhost:8080/",
          "height": 136
        }
      },
      "source": [
        "First_purchase.head()"
      ],
      "execution_count": 0,
      "outputs": [
        {
          "output_type": "execute_result",
          "data": {
            "text/plain": [
              "CustomerID\n",
              "12346.0   2011-01-18 10:01:00\n",
              "12347.0   2010-12-07 14:57:00\n",
              "12348.0   2010-12-16 19:09:00\n",
              "12349.0   2011-11-21 09:51:00\n",
              "12350.0   2011-02-02 16:01:00\n",
              "Name: InvoiceDate, dtype: datetime64[ns]"
            ]
          },
          "metadata": {
            "tags": []
          },
          "execution_count": 47
        }
      ]
    },
    {
      "cell_type": "code",
      "metadata": {
        "id": "zqEcgJTzIjcy",
        "colab_type": "code",
        "outputId": "e4cc69c9-9673-48d0-87c4-96811ab69213",
        "colab": {
          "base_uri": "https://localhost:8080/",
          "height": 136
        }
      },
      "source": [
        "#First we calculate the number of days from the day of the last purchase, and then calculate in month.\n",
        "Max_date=Sample_df_NoDupNA.InvoiceDate.max()+dt.timedelta(days=1)\n",
        "Recency_days=Last_purchase.map(lambda x:(x-Max_date).days)\n",
        "#Recency in months\n",
        "Recency_months=Recency_days.map(lambda x:round((-1*x)/30,1))\n",
        "Recency_months.head()"
      ],
      "execution_count": 0,
      "outputs": [
        {
          "output_type": "execute_result",
          "data": {
            "text/plain": [
              "CustomerID\n",
              "12346.0    10.6\n",
              "12347.0     1.1\n",
              "12348.0     2.3\n",
              "12349.0     0.4\n",
              "12350.0    10.1\n",
              "Name: InvoiceDate, dtype: float64"
            ]
          },
          "metadata": {
            "tags": []
          },
          "execution_count": 48
        }
      ]
    },
    {
      "cell_type": "code",
      "metadata": {
        "id": "rTj1tDg3JNtK",
        "colab_type": "code",
        "outputId": "42e8253b-6208-4a4f-9ff6-f9fc6297f179",
        "colab": {
          "base_uri": "https://localhost:8080/",
          "height": 170
        }
      },
      "source": [
        "#To understand the above output, we can check out the description of the statistical indicators.\n",
        "Recency_months.describe()"
      ],
      "execution_count": 0,
      "outputs": [
        {
          "output_type": "execute_result",
          "data": {
            "text/plain": [
              "count    4297.000000\n",
              "mean        3.082104\n",
              "std         3.285181\n",
              "min         0.000000\n",
              "25%         0.600000\n",
              "50%         1.700000\n",
              "75%         4.900000\n",
              "max        12.200000\n",
              "Name: InvoiceDate, dtype: float64"
            ]
          },
          "metadata": {
            "tags": []
          },
          "execution_count": 49
        }
      ]
    },
    {
      "cell_type": "code",
      "metadata": {
        "id": "ZrXIiamcJewn",
        "colab_type": "code",
        "outputId": "b868b143-ce1e-4364-9567-a6722cf0ecfd",
        "colab": {
          "base_uri": "https://localhost:8080/",
          "height": 255
        }
      },
      "source": [
        "#We can use customer-driven business strategy to improve users in segments of [1, 2] and [2, 3], \n",
        "#that is, 1 to 2 months, and shopping activities within 2 to 3 months in order to promote the users to shop within [0,1] time frame.\n",
        "#To gain a much more better understanding, we will also use a histogram\n",
        "bins1=[0,1,2,3,4,5,6,7,8,9,10,11,12,13]\n",
        "pd.cut(Recency_months,bins1).value_counts()"
      ],
      "execution_count": 0,
      "outputs": [
        {
          "output_type": "execute_result",
          "data": {
            "text/plain": [
              "(0, 1]      1663\n",
              "(1, 2]       742\n",
              "(2, 3]       437\n",
              "(3, 4]       226\n",
              "(4, 5]       198\n",
              "(5, 6]       183\n",
              "(6, 7]       182\n",
              "(8, 9]       161\n",
              "(7, 8]       142\n",
              "(9, 10]      119\n",
              "(10, 11]     118\n",
              "(11, 12]      79\n",
              "(12, 13]      46\n",
              "Name: InvoiceDate, dtype: int64"
            ]
          },
          "metadata": {
            "tags": []
          },
          "execution_count": 50
        }
      ]
    },
    {
      "cell_type": "code",
      "metadata": {
        "id": "PeeJtUaVKKDW",
        "colab_type": "code",
        "outputId": "bff0ddf5-9221-4a95-fc49-462907174b9a",
        "colab": {
          "base_uri": "https://localhost:8080/",
          "height": 295
        }
      },
      "source": [
        "#Histogram\n",
        "#The histogram shows a much more clear view of purchasing recency time frames\n",
        "pd.cut(Recency_months,bins1).value_counts().plot.bar(rot=20)"
      ],
      "execution_count": 0,
      "outputs": [
        {
          "output_type": "execute_result",
          "data": {
            "text/plain": [
              "<matplotlib.axes._subplots.AxesSubplot at 0x7f9d65f2f828>"
            ]
          },
          "metadata": {
            "tags": []
          },
          "execution_count": 51
        },
        {
          "output_type": "display_data",
          "data": {
            "image/png": "[encoded data removed]",
            "text/plain": [
              "<Figure size 432x288 with 1 Axes>"
            ]
          },
          "metadata": {
            "tags": []
          }
        }
      ]
    },
    {
      "cell_type": "code",
      "metadata": {
        "id": "ar-WT-fuFEy8",
        "colab_type": "code",
        "outputId": "cdb53bfc-453d-4afb-8bd0-6ac5f792d327",
        "colab": {
          "base_uri": "https://localhost:8080/",
          "height": 136
        }
      },
      "source": [
        "#7.2 Frequency\n",
        "#Frequency is defined as the shopping frequency, which is the total number of purchases made by the users in the year of analysis.\n",
        "Unique_purchase=Sample_df_NoDupNA.drop_duplicates(subset=['InvoiceNo'])\n",
        "Freq_purchase=Unique_purchase.groupby(['CustomerID']).InvoiceNo.count()\n",
        "Freq_purchase.head()"
      ],
      "execution_count": 0,
      "outputs": [
        {
          "output_type": "execute_result",
          "data": {
            "text/plain": [
              "CustomerID\n",
              "12346.0    1\n",
              "12347.0    6\n",
              "12348.0    4\n",
              "12349.0    1\n",
              "12350.0    1\n",
              "Name: InvoiceNo, dtype: int64"
            ]
          },
          "metadata": {
            "tags": []
          },
          "execution_count": 43
        }
      ]
    },
    {
      "cell_type": "code",
      "metadata": {
        "id": "SvdHE6dOFenn",
        "colab_type": "code",
        "outputId": "b56418ba-e94f-4833-82fa-689292de3749",
        "colab": {
          "base_uri": "https://localhost:8080/",
          "height": 170
        }
      },
      "source": [
        "#7.2 Frequency\n",
        "\n",
        "#7.2.1 Descriptive statistical indicators:\n",
        "Freq_purchase.describe()\n",
        "#From the output below the frequency of purchase varies greatly, with a minimum of 1 time and a maximum of 200 times."
      ],
      "execution_count": 0,
      "outputs": [
        {
          "output_type": "execute_result",
          "data": {
            "text/plain": [
              "count    4297.000000\n",
              "mean        4.131720\n",
              "std         7.412705\n",
              "min         1.000000\n",
              "25%         1.000000\n",
              "50%         2.000000\n",
              "75%         4.000000\n",
              "max       200.000000\n",
              "Name: InvoiceNo, dtype: float64"
            ]
          },
          "metadata": {
            "tags": []
          },
          "execution_count": 44
        }
      ]
    },
    {
      "cell_type": "code",
      "metadata": {
        "id": "CG1YfC3zGMKa",
        "colab_type": "code",
        "outputId": "f57df0fb-836d-42b1-8cb2-463c23af939a",
        "colab": {
          "base_uri": "https://localhost:8080/",
          "height": 204
        }
      },
      "source": [
        "#7.2 Frequency\n",
        "#From the ouput we see that Most users have purchase record within 1 to 20 times in a year, which is more likely to be a normal situation. \n",
        "#Here, we should pay attention to some discrete values:\n",
        "#For example, there is 1 user who consume 100 to 120 times a year have 1 user, and 2 users have 180 to 200 purchase records which seems about high. \n",
        "#Our analysis will make special treatment for these discrete values.\n",
        "bins2=[1,20,40,60,80,100,120,140,160,180,200]\n",
        "pd.cut(Freq_purchase,bins2).value_counts()"
      ],
      "execution_count": 0,
      "outputs": [
        {
          "output_type": "execute_result",
          "data": {
            "text/plain": [
              "(1, 20]       2673\n",
              "(20, 40]        65\n",
              "(40, 60]        12\n",
              "(80, 100]        4\n",
              "(180, 200]       2\n",
              "(60, 80]         2\n",
              "(100, 120]       1\n",
              "(160, 180]       0\n",
              "(140, 160]       0\n",
              "(120, 140]       0\n",
              "Name: InvoiceNo, dtype: int64"
            ]
          },
          "metadata": {
            "tags": []
          },
          "execution_count": 45
        }
      ]
    },
    {
      "cell_type": "code",
      "metadata": {
        "id": "IMhWN2FoHBY_",
        "colab_type": "code",
        "outputId": "30c1d5b9-15b1-48c4-be11-4b0cb7e9f977",
        "colab": {
          "base_uri": "https://localhost:8080/",
          "height": 170
        }
      },
      "source": [
        "#7.3 Monetary\n",
        "#Monetary is defined as the total amount spent by the users within one year.\n",
        "#from the output below the total amount of consumption per user varies widely, with a minimum of 2.9 euros and a maximum of 268,478 euros.\n",
        "Money_purchase=Sample_df_NoDupNA.groupby(['CustomerID']).Amount.sum()\n",
        "Money_purchase.head()\n",
        "Money_purchase.describe()"
      ],
      "execution_count": 0,
      "outputs": [
        {
          "output_type": "execute_result",
          "data": {
            "text/plain": [
              "count      4297.000000\n",
              "mean       1947.874902\n",
              "std        8351.696003\n",
              "min           2.900000\n",
              "25%         303.160000\n",
              "50%         650.750000\n",
              "75%        1594.230000\n",
              "max      268478.000000\n",
              "Name: Amount, dtype: float64"
            ]
          },
          "metadata": {
            "tags": []
          },
          "execution_count": 52
        }
      ]
    },
    {
      "cell_type": "code",
      "metadata": {
        "id": "2EJry69iLdVK",
        "colab_type": "code",
        "outputId": "33ae02bf-3f48-48e0-c76a-de3bb0a5e8e9",
        "colab": {
          "base_uri": "https://localhost:8080/",
          "height": 170
        }
      },
      "source": [
        "bins3=[2.5,10,50,100,1000,10000,100000,200000,300000]\n",
        "pd.cut(Money_purchase,bins3).value_counts()"
      ],
      "execution_count": 0,
      "outputs": [
        {
          "output_type": "execute_result",
          "data": {
            "text/plain": [
              "(100.0, 1000.0]         2518\n",
              "(1000.0, 10000.0]       1520\n",
              "(50.0, 100.0]            119\n",
              "(10000.0, 100000.0]       94\n",
              "(10.0, 50.0]              36\n",
              "(100000.0, 200000.0]       4\n",
              "(2.5, 10.0]                4\n",
              "(200000.0, 300000.0]       2\n",
              "Name: Amount, dtype: int64"
            ]
          },
          "metadata": {
            "tags": []
          },
          "execution_count": 53
        }
      ]
    },
    {
      "cell_type": "code",
      "metadata": {
        "id": "k3NIPLS6L2wY",
        "colab_type": "code",
        "outputId": "55ca7a2f-8f4d-4f5b-d594-0b120ca310af",
        "colab": {
          "base_uri": "https://localhost:8080/",
          "height": 319
        }
      },
      "source": [
        "#we use a histogram to clearly indicate\n",
        "pd.cut(Money_purchase,bins3).value_counts().plot.bar(rot=20)\n"
      ],
      "execution_count": 0,
      "outputs": [
        {
          "output_type": "execute_result",
          "data": {
            "text/plain": [
              "<matplotlib.axes._subplots.AxesSubplot at 0x7f9d65a3ea58>"
            ]
          },
          "metadata": {
            "tags": []
          },
          "execution_count": 54
        },
        {
          "output_type": "display_data",
          "data": {
            "image/png": "[encoded data removed]",
            "text/plain": [
              "<Figure size 432x288 with 1 Axes>"
            ]
          },
          "metadata": {
            "tags": []
          }
        }
      ]
    },
    {
      "cell_type": "code",
      "metadata": {
        "id": "RprcbynxMZ1L",
        "colab_type": "code",
        "colab": {}
      },
      "source": [
        "#Based on the above calculations, the data range of the three indicators of RFM is:\n",
        "\n",
        "#R [0.0, 12.1]\n",
        "\n",
        "#F [1.0, 200.0]\n",
        "\n",
        "#M [2.9, 268478.0]\n"
      ],
      "execution_count": 0,
      "outputs": []
    },
    {
      "cell_type": "markdown",
      "metadata": {
        "id": "AJ4kFVwLMjH8",
        "colab_type": "text"
      },
      "source": [
        "**8. Modelling**\n"
      ]
    },
    {
      "cell_type": "code",
      "metadata": {
        "id": "8Q-Seu86MwLw",
        "colab_type": "code",
        "outputId": "3450e239-6c75-410b-f5fb-c28840d1872b",
        "colab": {
          "base_uri": "https://localhost:8080/",
          "height": 235
        }
      },
      "source": [
        "#8.1 Using RFM models to mine value users\n",
        "\n",
        "#The first step is to create an RFM matrix and rename the column names.\n",
        "#Calculate RFM metrics\n",
        "rfm=Sample_df_NoDupNA.groupby(['CustomerID']).agg({'InvoiceDate':lambda x:(Max_date-x.max()).days,\n",
        "                                                'InvoiceNo':'count',\n",
        "                                                'Amount':'sum'})\n",
        "#Rename columns\n",
        "rfm.rename(columns={'InvoiceDate':'Recency','InvoiceNo':'Frequency','Amount':'Monetary'},inplace=True)\n",
        "rfm.head()"
      ],
      "execution_count": 0,
      "outputs": [
        {
          "output_type": "execute_result",
          "data": {
            "text/html": [
              "<div>\n",
              "<style scoped>\n",
              "    .dataframe tbody tr th:only-of-type {\n",
              "        vertical-align: middle;\n",
              "    }\n",
              "\n",
              "    .dataframe tbody tr th {\n",
              "        vertical-align: top;\n",
              "    }\n",
              "\n",
              "    .dataframe thead th {\n",
              "        text-align: right;\n",
              "    }\n",
              "</style>\n",
              "<table border=\"1\" class=\"dataframe\">\n",
              "  <thead>\n",
              "    <tr style=\"text-align: right;\">\n",
              "      <th></th>\n",
              "      <th>Recency</th>\n",
              "      <th>Frequency</th>\n",
              "      <th>Monetary</th>\n",
              "    </tr>\n",
              "    <tr>\n",
              "      <th>CustomerID</th>\n",
              "      <th></th>\n",
              "      <th></th>\n",
              "      <th></th>\n",
              "    </tr>\n",
              "  </thead>\n",
              "  <tbody>\n",
              "    <tr>\n",
              "      <th>12346.0</th>\n",
              "      <td>317</td>\n",
              "      <td>1</td>\n",
              "      <td>77183.60</td>\n",
              "    </tr>\n",
              "    <tr>\n",
              "      <th>12347.0</th>\n",
              "      <td>31</td>\n",
              "      <td>171</td>\n",
              "      <td>4085.18</td>\n",
              "    </tr>\n",
              "    <tr>\n",
              "      <th>12348.0</th>\n",
              "      <td>67</td>\n",
              "      <td>31</td>\n",
              "      <td>1797.24</td>\n",
              "    </tr>\n",
              "    <tr>\n",
              "      <th>12349.0</th>\n",
              "      <td>10</td>\n",
              "      <td>73</td>\n",
              "      <td>1757.55</td>\n",
              "    </tr>\n",
              "    <tr>\n",
              "      <th>12350.0</th>\n",
              "      <td>302</td>\n",
              "      <td>17</td>\n",
              "      <td>334.40</td>\n",
              "    </tr>\n",
              "  </tbody>\n",
              "</table>\n",
              "</div>"
            ],
            "text/plain": [
              "            Recency  Frequency  Monetary\n",
              "CustomerID                              \n",
              "12346.0         317          1  77183.60\n",
              "12347.0          31        171   4085.18\n",
              "12348.0          67         31   1797.24\n",
              "12349.0          10         73   1757.55\n",
              "12350.0         302         17    334.40"
            ]
          },
          "metadata": {
            "tags": []
          },
          "execution_count": 55
        }
      ]
    },
    {
      "cell_type": "code",
      "metadata": {
        "id": "bo7TnFmtNNdh",
        "colab_type": "code",
        "colab": {}
      },
      "source": [
        "#The second step is to establish a user behaviour scoring mechanism with a score from 1-4. \n",
        "#For the Recency, the larger the value, the smaller the score is because e-retailers prefer recently active users. \n",
        "#For Frequency and Monetary, the higher the frequency of purchase and the monetary, the higher the score is.\n",
        "#Building RFM rating principle\n",
        "r_labels=range(4,0,-1)\n",
        "f_labels=range(1,5,1)\n",
        "m_labels=range(1,5,1)"
      ],
      "execution_count": 0,
      "outputs": []
    },
    {
      "cell_type": "code",
      "metadata": {
        "id": "002Xv9bzNhuL",
        "colab_type": "code",
        "colab": {}
      },
      "source": [
        "#The user behaviour is divided according to the three tags of the RFM defined above.\n",
        "#the data under each tag is divided into 4 equal parts using the pd.qcut function so the score is assigned.\n",
        "r_quartiles = pd.qcut(rfm['Recency'],q=4,labels=r_labels)\n",
        "f_quartiles = pd.qcut(rfm['Frequency'],q=4,labels=f_labels)\n",
        "m_quartiles = pd.qcut(rfm['Monetary'],q=4,labels=m_labels)\n",
        "\n",
        "rfm = rfm.assign(R=r_quartiles, F=f_quartiles, M=m_quartiles)"
      ],
      "execution_count": 0,
      "outputs": []
    },
    {
      "cell_type": "code",
      "metadata": {
        "id": "W9PujbfRNw-e",
        "colab_type": "code",
        "outputId": "667e3499-5350-4022-f182-27596c6c14c8",
        "colab": {
          "base_uri": "https://localhost:8080/",
          "height": 235
        }
      },
      "source": [
        "#With the score of each tag of the RFM, statistics are calculated and the final score of each user is calculated as the sum score of each tag.\n",
        "#Calculate RFM Segment and RFM Score\n",
        "def add_rfm(x):\n",
        "    return str(x['R'])+str(x['F'])+str(x['M'])\n",
        "\n",
        "rfm['RFM_Segment']=rfm.apply(add_rfm,axis=1)\n",
        "rfm['RFM_Score']=rfm[['R','F','M']].sum(axis=1)\n",
        "rfm.head()"
      ],
      "execution_count": 0,
      "outputs": [
        {
          "output_type": "execute_result",
          "data": {
            "text/html": [
              "<div>\n",
              "<style scoped>\n",
              "    .dataframe tbody tr th:only-of-type {\n",
              "        vertical-align: middle;\n",
              "    }\n",
              "\n",
              "    .dataframe tbody tr th {\n",
              "        vertical-align: top;\n",
              "    }\n",
              "\n",
              "    .dataframe thead th {\n",
              "        text-align: right;\n",
              "    }\n",
              "</style>\n",
              "<table border=\"1\" class=\"dataframe\">\n",
              "  <thead>\n",
              "    <tr style=\"text-align: right;\">\n",
              "      <th></th>\n",
              "      <th>Recency</th>\n",
              "      <th>Frequency</th>\n",
              "      <th>Monetary</th>\n",
              "      <th>R</th>\n",
              "      <th>F</th>\n",
              "      <th>M</th>\n",
              "      <th>RFM_Segment</th>\n",
              "      <th>RFM_Score</th>\n",
              "    </tr>\n",
              "    <tr>\n",
              "      <th>CustomerID</th>\n",
              "      <th></th>\n",
              "      <th></th>\n",
              "      <th></th>\n",
              "      <th></th>\n",
              "      <th></th>\n",
              "      <th></th>\n",
              "      <th></th>\n",
              "      <th></th>\n",
              "    </tr>\n",
              "  </thead>\n",
              "  <tbody>\n",
              "    <tr>\n",
              "      <th>12346.0</th>\n",
              "      <td>317</td>\n",
              "      <td>1</td>\n",
              "      <td>77183.60</td>\n",
              "      <td>1</td>\n",
              "      <td>1</td>\n",
              "      <td>4</td>\n",
              "      <td>114</td>\n",
              "      <td>6.0</td>\n",
              "    </tr>\n",
              "    <tr>\n",
              "      <th>12347.0</th>\n",
              "      <td>31</td>\n",
              "      <td>171</td>\n",
              "      <td>4085.18</td>\n",
              "      <td>3</td>\n",
              "      <td>4</td>\n",
              "      <td>4</td>\n",
              "      <td>344</td>\n",
              "      <td>11.0</td>\n",
              "    </tr>\n",
              "    <tr>\n",
              "      <th>12348.0</th>\n",
              "      <td>67</td>\n",
              "      <td>31</td>\n",
              "      <td>1797.24</td>\n",
              "      <td>2</td>\n",
              "      <td>2</td>\n",
              "      <td>4</td>\n",
              "      <td>224</td>\n",
              "      <td>8.0</td>\n",
              "    </tr>\n",
              "    <tr>\n",
              "      <th>12349.0</th>\n",
              "      <td>10</td>\n",
              "      <td>73</td>\n",
              "      <td>1757.55</td>\n",
              "      <td>4</td>\n",
              "      <td>3</td>\n",
              "      <td>4</td>\n",
              "      <td>434</td>\n",
              "      <td>11.0</td>\n",
              "    </tr>\n",
              "    <tr>\n",
              "      <th>12350.0</th>\n",
              "      <td>302</td>\n",
              "      <td>17</td>\n",
              "      <td>334.40</td>\n",
              "      <td>1</td>\n",
              "      <td>1</td>\n",
              "      <td>2</td>\n",
              "      <td>112</td>\n",
              "      <td>4.0</td>\n",
              "    </tr>\n",
              "  </tbody>\n",
              "</table>\n",
              "</div>"
            ],
            "text/plain": [
              "            Recency  Frequency  Monetary  R  F  M RFM_Segment  RFM_Score\n",
              "CustomerID                                                              \n",
              "12346.0         317          1  77183.60  1  1  4         114        6.0\n",
              "12347.0          31        171   4085.18  3  4  4         344       11.0\n",
              "12348.0          67         31   1797.24  2  2  4         224        8.0\n",
              "12349.0          10         73   1757.55  4  3  4         434       11.0\n",
              "12350.0         302         17    334.40  1  1  2         112        4.0"
            ]
          },
          "metadata": {
            "tags": []
          },
          "execution_count": 58
        }
      ]
    },
    {
      "cell_type": "code",
      "metadata": {
        "id": "7LchBYzVOYCn",
        "colab_type": "code",
        "outputId": "011d0eff-5bd3-4a51-dd48-1e6cb3b89a2e",
        "colab": {
          "base_uri": "https://localhost:8080/",
          "height": 421
        }
      },
      "source": [
        "#We'll now take a look at the statistics of the RFM comprehensive score. \n",
        "#The overall score has minimum value of 3 points and the maximum value is 12 points.\n",
        "rfm.groupby('RFM_Score').agg({'Recency':'mean','Frequency':'mean','Monetary':['mean','count']}).round(1)"
      ],
      "execution_count": 0,
      "outputs": [
        {
          "output_type": "execute_result",
          "data": {
            "text/html": [
              "<div>\n",
              "<style scoped>\n",
              "    .dataframe tbody tr th:only-of-type {\n",
              "        vertical-align: middle;\n",
              "    }\n",
              "\n",
              "    .dataframe tbody tr th {\n",
              "        vertical-align: top;\n",
              "    }\n",
              "\n",
              "    .dataframe thead tr th {\n",
              "        text-align: left;\n",
              "    }\n",
              "\n",
              "    .dataframe thead tr:last-of-type th {\n",
              "        text-align: right;\n",
              "    }\n",
              "</style>\n",
              "<table border=\"1\" class=\"dataframe\">\n",
              "  <thead>\n",
              "    <tr>\n",
              "      <th></th>\n",
              "      <th>Recency</th>\n",
              "      <th>Frequency</th>\n",
              "      <th colspan=\"2\" halign=\"left\">Monetary</th>\n",
              "    </tr>\n",
              "    <tr>\n",
              "      <th></th>\n",
              "      <th>mean</th>\n",
              "      <th>mean</th>\n",
              "      <th>mean</th>\n",
              "      <th>count</th>\n",
              "    </tr>\n",
              "    <tr>\n",
              "      <th>RFM_Score</th>\n",
              "      <th></th>\n",
              "      <th></th>\n",
              "      <th></th>\n",
              "      <th></th>\n",
              "    </tr>\n",
              "  </thead>\n",
              "  <tbody>\n",
              "    <tr>\n",
              "      <th>3.0</th>\n",
              "      <td>255.2</td>\n",
              "      <td>8.1</td>\n",
              "      <td>154.6</td>\n",
              "      <td>382</td>\n",
              "    </tr>\n",
              "    <tr>\n",
              "      <th>4.0</th>\n",
              "      <td>178.4</td>\n",
              "      <td>13.9</td>\n",
              "      <td>237.9</td>\n",
              "      <td>376</td>\n",
              "    </tr>\n",
              "    <tr>\n",
              "      <th>5.0</th>\n",
              "      <td>151.1</td>\n",
              "      <td>20.2</td>\n",
              "      <td>365.7</td>\n",
              "      <td>495</td>\n",
              "    </tr>\n",
              "    <tr>\n",
              "      <th>6.0</th>\n",
              "      <td>96.0</td>\n",
              "      <td>27.0</td>\n",
              "      <td>795.2</td>\n",
              "      <td>478</td>\n",
              "    </tr>\n",
              "    <tr>\n",
              "      <th>7.0</th>\n",
              "      <td>77.3</td>\n",
              "      <td>37.2</td>\n",
              "      <td>727.5</td>\n",
              "      <td>450</td>\n",
              "    </tr>\n",
              "    <tr>\n",
              "      <th>8.0</th>\n",
              "      <td>60.7</td>\n",
              "      <td>52.5</td>\n",
              "      <td>971.1</td>\n",
              "      <td>458</td>\n",
              "    </tr>\n",
              "    <tr>\n",
              "      <th>9.0</th>\n",
              "      <td>47.4</td>\n",
              "      <td>77.1</td>\n",
              "      <td>1354.4</td>\n",
              "      <td>404</td>\n",
              "    </tr>\n",
              "    <tr>\n",
              "      <th>10.0</th>\n",
              "      <td>33.2</td>\n",
              "      <td>113.5</td>\n",
              "      <td>1893.4</td>\n",
              "      <td>437</td>\n",
              "    </tr>\n",
              "    <tr>\n",
              "      <th>11.0</th>\n",
              "      <td>20.5</td>\n",
              "      <td>186.7</td>\n",
              "      <td>4150.3</td>\n",
              "      <td>419</td>\n",
              "    </tr>\n",
              "    <tr>\n",
              "      <th>12.0</th>\n",
              "      <td>7.4</td>\n",
              "      <td>363.4</td>\n",
              "      <td>9484.0</td>\n",
              "      <td>398</td>\n",
              "    </tr>\n",
              "  </tbody>\n",
              "</table>\n",
              "</div>"
            ],
            "text/plain": [
              "          Recency Frequency Monetary      \n",
              "             mean      mean     mean count\n",
              "RFM_Score                                 \n",
              "3.0         255.2       8.1    154.6   382\n",
              "4.0         178.4      13.9    237.9   376\n",
              "5.0         151.1      20.2    365.7   495\n",
              "6.0          96.0      27.0    795.2   478\n",
              "7.0          77.3      37.2    727.5   450\n",
              "8.0          60.7      52.5    971.1   458\n",
              "9.0          47.4      77.1   1354.4   404\n",
              "10.0         33.2     113.5   1893.4   437\n",
              "11.0         20.5     186.7   4150.3   419\n",
              "12.0          7.4     363.4   9484.0   398"
            ]
          },
          "metadata": {
            "tags": []
          },
          "execution_count": 59
        }
      ]
    },
    {
      "cell_type": "code",
      "metadata": {
        "id": "UpEn0THuOtbh",
        "colab_type": "code",
        "outputId": "bf5ad6ff-41a3-42a6-ca0e-d08609f2af7b",
        "colab": {
          "base_uri": "https://localhost:8080/",
          "height": 204
        }
      },
      "source": [
        "#The users are divided into 10 levels according to RFM's comprehensive score i.e. RFM_Score. \n",
        "#In practice, a rough division may be required. The users are divided into 3 general levels.\n",
        "#We'll create grades gold, silver, and bronze\n",
        "#The RFM scores are 10-12 (gold), 6-9 (silver) and 3-5 (bronze) respectively.\n",
        "\n",
        "#Use RFM score to group customers into Gold, Silver, Bronze segments:\n",
        "def segments(df):\n",
        "    if df['RFM_Score']>9:\n",
        "        return 'Gold'\n",
        "    elif (df['RFM_Score']>5) and (df['RFM_Score']<=9):\n",
        "        return 'Silver'\n",
        "    else:\n",
        "        return 'Bronze'\n",
        "    \n",
        "rfm['General_Segment']=rfm.apply(segments,axis=1)\n",
        "rfm.groupby('General_Segment').agg({'Recency':'mean','Frequency':'mean','Monetary':['mean','count']}).round(1)\n",
        "\n"
      ],
      "execution_count": 0,
      "outputs": [
        {
          "output_type": "execute_result",
          "data": {
            "text/html": [
              "<div>\n",
              "<style scoped>\n",
              "    .dataframe tbody tr th:only-of-type {\n",
              "        vertical-align: middle;\n",
              "    }\n",
              "\n",
              "    .dataframe tbody tr th {\n",
              "        vertical-align: top;\n",
              "    }\n",
              "\n",
              "    .dataframe thead tr th {\n",
              "        text-align: left;\n",
              "    }\n",
              "\n",
              "    .dataframe thead tr:last-of-type th {\n",
              "        text-align: right;\n",
              "    }\n",
              "</style>\n",
              "<table border=\"1\" class=\"dataframe\">\n",
              "  <thead>\n",
              "    <tr>\n",
              "      <th></th>\n",
              "      <th>Recency</th>\n",
              "      <th>Frequency</th>\n",
              "      <th colspan=\"2\" halign=\"left\">Monetary</th>\n",
              "    </tr>\n",
              "    <tr>\n",
              "      <th></th>\n",
              "      <th>mean</th>\n",
              "      <th>mean</th>\n",
              "      <th>mean</th>\n",
              "      <th>count</th>\n",
              "    </tr>\n",
              "    <tr>\n",
              "      <th>General_Segment</th>\n",
              "      <th></th>\n",
              "      <th></th>\n",
              "      <th></th>\n",
              "      <th></th>\n",
              "    </tr>\n",
              "  </thead>\n",
              "  <tbody>\n",
              "    <tr>\n",
              "      <th>Bronze</th>\n",
              "      <td>191.0</td>\n",
              "      <td>14.6</td>\n",
              "      <td>263.0</td>\n",
              "      <td>1253</td>\n",
              "    </tr>\n",
              "    <tr>\n",
              "      <th>Gold</th>\n",
              "      <td>20.8</td>\n",
              "      <td>217.3</td>\n",
              "      <td>5056.7</td>\n",
              "      <td>1254</td>\n",
              "    </tr>\n",
              "    <tr>\n",
              "      <th>Silver</th>\n",
              "      <td>71.3</td>\n",
              "      <td>47.4</td>\n",
              "      <td>949.4</td>\n",
              "      <td>1790</td>\n",
              "    </tr>\n",
              "  </tbody>\n",
              "</table>\n",
              "</div>"
            ],
            "text/plain": [
              "                Recency Frequency Monetary      \n",
              "                   mean      mean     mean count\n",
              "General_Segment                                 \n",
              "Bronze            191.0      14.6    263.0  1253\n",
              "Gold               20.8     217.3   5056.7  1254\n",
              "Silver             71.3      47.4    949.4  1790"
            ]
          },
          "metadata": {
            "tags": []
          },
          "execution_count": 60
        }
      ]
    },
    {
      "cell_type": "code",
      "metadata": {
        "id": "XBeduAcdPeux",
        "colab_type": "code",
        "outputId": "07df7374-8ed1-4a29-a94d-c34676b518dd",
        "colab": {
          "base_uri": "https://localhost:8080/",
          "height": 235
        }
      },
      "source": [
        "#In this way, all users can be divided according to the above RFM model, \n",
        "#and the value user can be identified according to the General_Segment or according to RFM_Score.\n",
        "rfm.head()"
      ],
      "execution_count": 0,
      "outputs": [
        {
          "output_type": "execute_result",
          "data": {
            "text/html": [
              "<div>\n",
              "<style scoped>\n",
              "    .dataframe tbody tr th:only-of-type {\n",
              "        vertical-align: middle;\n",
              "    }\n",
              "\n",
              "    .dataframe tbody tr th {\n",
              "        vertical-align: top;\n",
              "    }\n",
              "\n",
              "    .dataframe thead th {\n",
              "        text-align: right;\n",
              "    }\n",
              "</style>\n",
              "<table border=\"1\" class=\"dataframe\">\n",
              "  <thead>\n",
              "    <tr style=\"text-align: right;\">\n",
              "      <th></th>\n",
              "      <th>Recency</th>\n",
              "      <th>Frequency</th>\n",
              "      <th>Monetary</th>\n",
              "      <th>R</th>\n",
              "      <th>F</th>\n",
              "      <th>M</th>\n",
              "      <th>RFM_Segment</th>\n",
              "      <th>RFM_Score</th>\n",
              "      <th>General_Segment</th>\n",
              "    </tr>\n",
              "    <tr>\n",
              "      <th>CustomerID</th>\n",
              "      <th></th>\n",
              "      <th></th>\n",
              "      <th></th>\n",
              "      <th></th>\n",
              "      <th></th>\n",
              "      <th></th>\n",
              "      <th></th>\n",
              "      <th></th>\n",
              "      <th></th>\n",
              "    </tr>\n",
              "  </thead>\n",
              "  <tbody>\n",
              "    <tr>\n",
              "      <th>12346.0</th>\n",
              "      <td>317</td>\n",
              "      <td>1</td>\n",
              "      <td>77183.60</td>\n",
              "      <td>1</td>\n",
              "      <td>1</td>\n",
              "      <td>4</td>\n",
              "      <td>114</td>\n",
              "      <td>6.0</td>\n",
              "      <td>Silver</td>\n",
              "    </tr>\n",
              "    <tr>\n",
              "      <th>12347.0</th>\n",
              "      <td>31</td>\n",
              "      <td>171</td>\n",
              "      <td>4085.18</td>\n",
              "      <td>3</td>\n",
              "      <td>4</td>\n",
              "      <td>4</td>\n",
              "      <td>344</td>\n",
              "      <td>11.0</td>\n",
              "      <td>Gold</td>\n",
              "    </tr>\n",
              "    <tr>\n",
              "      <th>12348.0</th>\n",
              "      <td>67</td>\n",
              "      <td>31</td>\n",
              "      <td>1797.24</td>\n",
              "      <td>2</td>\n",
              "      <td>2</td>\n",
              "      <td>4</td>\n",
              "      <td>224</td>\n",
              "      <td>8.0</td>\n",
              "      <td>Silver</td>\n",
              "    </tr>\n",
              "    <tr>\n",
              "      <th>12349.0</th>\n",
              "      <td>10</td>\n",
              "      <td>73</td>\n",
              "      <td>1757.55</td>\n",
              "      <td>4</td>\n",
              "      <td>3</td>\n",
              "      <td>4</td>\n",
              "      <td>434</td>\n",
              "      <td>11.0</td>\n",
              "      <td>Gold</td>\n",
              "    </tr>\n",
              "    <tr>\n",
              "      <th>12350.0</th>\n",
              "      <td>302</td>\n",
              "      <td>17</td>\n",
              "      <td>334.40</td>\n",
              "      <td>1</td>\n",
              "      <td>1</td>\n",
              "      <td>2</td>\n",
              "      <td>112</td>\n",
              "      <td>4.0</td>\n",
              "      <td>Bronze</td>\n",
              "    </tr>\n",
              "  </tbody>\n",
              "</table>\n",
              "</div>"
            ],
            "text/plain": [
              "            Recency  Frequency  Monetary  ... RFM_Segment RFM_Score General_Segment\n",
              "CustomerID                                ...                                      \n",
              "12346.0         317          1  77183.60  ...         114       6.0          Silver\n",
              "12347.0          31        171   4085.18  ...         344      11.0            Gold\n",
              "12348.0          67         31   1797.24  ...         224       8.0          Silver\n",
              "12349.0          10         73   1757.55  ...         434      11.0            Gold\n",
              "12350.0         302         17    334.40  ...         112       4.0          Bronze\n",
              "\n",
              "[5 rows x 9 columns]"
            ]
          },
          "metadata": {
            "tags": []
          },
          "execution_count": 61
        }
      ]
    },
    {
      "cell_type": "markdown",
      "metadata": {
        "id": "tB-BUIcGQY4R",
        "colab_type": "text"
      },
      "source": [
        "**9. K-Means Clustering**"
      ]
    },
    {
      "cell_type": "code",
      "metadata": {
        "id": "4kW0rKaLQgVA",
        "colab_type": "code",
        "colab": {}
      },
      "source": [
        "#There are three limitations to the application of K-Means algorithm: \n",
        "#(1) the distribution of the labels is symmetrical, not skewed; \n",
        "#(2) the same average value of the labels; \n",
        "#(3) the same variance of the labels.\n",
        "\n",
        "#To solve these limitations, these are the solutions:\n",
        "#(1)Logarithmic transformation\n",
        "#(2)standardization\n"
      ],
      "execution_count": 0,
      "outputs": []
    },
    {
      "cell_type": "code",
      "metadata": {
        "id": "3ce_JduWRY8q",
        "colab_type": "code",
        "colab": {}
      },
      "source": [
        "#9.1 Logarithmic transformation\n",
        "rfm_k=rfm[['Recency','Frequency','Monetary']]\n",
        "#unskew the data with log transformation\n",
        "rfm_log=rfm[['Recency','Frequency','Monetary']].apply(np.log,axis=1).round(3)"
      ],
      "execution_count": 0,
      "outputs": []
    },
    {
      "cell_type": "code",
      "metadata": {
        "id": "3qq8lnJVRjKJ",
        "colab_type": "code",
        "outputId": "b001dc2b-c6a9-401a-f5ab-f7d410a3f903",
        "colab": {
          "base_uri": "https://localhost:8080/",
          "height": 714
        }
      },
      "source": [
        "#9.1.1 Plot histograms of the three labels together.\n",
        "#plot the distribution of RFM values\n",
        "f,ax=plt.subplots(figsize=(10,12))\n",
        "plt.subplot(3,1,1);sns.distplot(rfm_log.Recency,label='Recency')\n",
        "plt.subplot(3,1,2);sns.distplot(rfm_log.Frequency,label='Frequency')\n",
        "plt.subplot(3,1,3);sns.distplot(rfm_log.Monetary,label='Monetary')\n",
        "plt.show()"
      ],
      "execution_count": 0,
      "outputs": [
        {
          "output_type": "display_data",
          "data": {
            "image/png": "[encoded data removed]",
            "text/plain": [
              "<Figure size 720x864 with 3 Axes>"
            ]
          },
          "metadata": {
            "tags": []
          }
        }
      ]
    },
    {
      "cell_type": "code",
      "metadata": {
        "id": "wiwczquyR04q",
        "colab_type": "code",
        "colab": {}
      },
      "source": [
        "#9.1.2 Standardization\n",
        "scaler = StandardScaler()\n",
        "scaler.fit(rfm_log)\n",
        "#Store it separately for clustering\n",
        "rfm_normalized=scaler.transform(rfm_log)"
      ],
      "execution_count": 0,
      "outputs": []
    },
    {
      "cell_type": "code",
      "metadata": {
        "id": "-fWPotAvSHMr",
        "colab_type": "code",
        "colab": {}
      },
      "source": [
        "#9.1.3 select the appropriate number of clusters\n",
        "#1st step: get the best KMeans\n",
        "ks = range(1,8)\n",
        "inertias=[]\n",
        "\n",
        "for k in ks:\n",
        "    kc = KMeans(n_clusters=k, random_state=1)\n",
        "    kc.fit(rfm_normalized)\n",
        "    inertias.append(kc.inertia_)#sum of squared distances of samples to their closest cluster center"
      ],
      "execution_count": 0,
      "outputs": []
    },
    {
      "cell_type": "code",
      "metadata": {
        "id": "-OKSHAzGSXhY",
        "colab_type": "code",
        "outputId": "26eb0332-63f5-4a16-c8f8-94041b52bb38",
        "colab": {
          "base_uri": "https://localhost:8080/",
          "height": 404
        }
      },
      "source": [
        "#9.1.4 Drawing the calculated number of 1-8 clusters together and locate elbow bends\n",
        "#plot ks vs inertias\n",
        "f,ax = plt.subplots(figsize=(10,6))\n",
        "plt.plot(ks,inertias,'-o')\n",
        "plt.xlabel('Number of clusters,k')\n",
        "plt.ylabel('Inertia')\n",
        "plt.title('What is the best number for KMeans?')\n",
        "plt.show()"
      ],
      "execution_count": 0,
      "outputs": [
        {
          "output_type": "display_data",
          "data": {
            "image/png": "[encoded data removed]",
            "text/plain": [
              "<Figure size 720x432 with 1 Axes>"
            ]
          },
          "metadata": {
            "tags": []
          }
        }
      ]
    },
    {
      "cell_type": "code",
      "metadata": {
        "id": "ILKrSMNfS3vX",
        "colab_type": "code",
        "outputId": "6ff2edb2-0223-43c8-f8e4-b9919efcac5a",
        "colab": {
          "base_uri": "https://localhost:8080/",
          "height": 204
        }
      },
      "source": [
        "#The principle of the K-Means clustering method, simply speaking, it is to find the center point of the cluster. \n",
        "#It can be an existing numerical point or a numerical point that does not actually exist in the data set. \n",
        "#For example, there are 3 clusters. \n",
        "#The cluster center points calculate the distance from each point in the data set to the three center points, and classify the data points into the center point category with the shortest distance.\n",
        "\n",
        "#9.1.5 Building the model using machine learning algorithm\n",
        "# clustering\n",
        "kc=KMeans(n_clusters=3,random_state=1)\n",
        "kc.fit(rfm_normalized)\n",
        "\n",
        "# Create a cluster label column in the original DataFrame\n",
        "cluster_labels = kc.labels_\n",
        "\n",
        "# Calculate average RFM values and size for each cluster\n",
        "rfm_k3=rfm_k.assign(k_cluster=cluster_labels)\n",
        "\n",
        "#Calculate average RFM values and sizes for each cluster\n",
        "rfm_k3.groupby('k_cluster').agg({'Recency':'mean','Frequency':'mean','Monetary':['mean','count']}).round(0)"
      ],
      "execution_count": 0,
      "outputs": [
        {
          "output_type": "execute_result",
          "data": {
            "text/html": [
              "<div>\n",
              "<style scoped>\n",
              "    .dataframe tbody tr th:only-of-type {\n",
              "        vertical-align: middle;\n",
              "    }\n",
              "\n",
              "    .dataframe tbody tr th {\n",
              "        vertical-align: top;\n",
              "    }\n",
              "\n",
              "    .dataframe thead tr th {\n",
              "        text-align: left;\n",
              "    }\n",
              "\n",
              "    .dataframe thead tr:last-of-type th {\n",
              "        text-align: right;\n",
              "    }\n",
              "</style>\n",
              "<table border=\"1\" class=\"dataframe\">\n",
              "  <thead>\n",
              "    <tr>\n",
              "      <th></th>\n",
              "      <th>Recency</th>\n",
              "      <th>Frequency</th>\n",
              "      <th colspan=\"2\" halign=\"left\">Monetary</th>\n",
              "    </tr>\n",
              "    <tr>\n",
              "      <th></th>\n",
              "      <th>mean</th>\n",
              "      <th>mean</th>\n",
              "      <th>mean</th>\n",
              "      <th>count</th>\n",
              "    </tr>\n",
              "    <tr>\n",
              "      <th>k_cluster</th>\n",
              "      <th></th>\n",
              "      <th></th>\n",
              "      <th></th>\n",
              "      <th></th>\n",
              "    </tr>\n",
              "  </thead>\n",
              "  <tbody>\n",
              "    <tr>\n",
              "      <th>0</th>\n",
              "      <td>67.0</td>\n",
              "      <td>58.0</td>\n",
              "      <td>1054.0</td>\n",
              "      <td>1816</td>\n",
              "    </tr>\n",
              "    <tr>\n",
              "      <th>1</th>\n",
              "      <td>174.0</td>\n",
              "      <td>15.0</td>\n",
              "      <td>290.0</td>\n",
              "      <td>1461</td>\n",
              "    </tr>\n",
              "    <tr>\n",
              "      <th>2</th>\n",
              "      <td>17.0</td>\n",
              "      <td>244.0</td>\n",
              "      <td>5915.0</td>\n",
              "      <td>1020</td>\n",
              "    </tr>\n",
              "  </tbody>\n",
              "</table>\n",
              "</div>"
            ],
            "text/plain": [
              "          Recency Frequency Monetary      \n",
              "             mean      mean     mean count\n",
              "k_cluster                                 \n",
              "0            67.0      58.0   1054.0  1816\n",
              "1           174.0      15.0    290.0  1461\n",
              "2            17.0     244.0   5915.0  1020"
            ]
          },
          "metadata": {
            "tags": []
          },
          "execution_count": 67
        }
      ]
    },
    {
      "cell_type": "code",
      "metadata": {
        "id": "TAR_731zTnVe",
        "colab_type": "code",
        "outputId": "02b767b2-2b65-4648-a091-1e52c6e0ade8",
        "colab": {
          "base_uri": "https://localhost:8080/",
          "height": 235
        }
      },
      "source": [
        "#By comparing the RF/Silver\\Bronze of the RFM model, \n",
        "#the three clusters 0, 1, and 2 obtained here correspond to Silver\\Bronze\\Gold, and the most valuable \n",
        "#user group is the user of the category with k_cluster = 2.\n",
        "\n",
        "#9.1.6 Use the K-Means algorithm to classify users in order to mine value users.\n",
        "rfm_k3.head()"
      ],
      "execution_count": 0,
      "outputs": [
        {
          "output_type": "execute_result",
          "data": {
            "text/html": [
              "<div>\n",
              "<style scoped>\n",
              "    .dataframe tbody tr th:only-of-type {\n",
              "        vertical-align: middle;\n",
              "    }\n",
              "\n",
              "    .dataframe tbody tr th {\n",
              "        vertical-align: top;\n",
              "    }\n",
              "\n",
              "    .dataframe thead th {\n",
              "        text-align: right;\n",
              "    }\n",
              "</style>\n",
              "<table border=\"1\" class=\"dataframe\">\n",
              "  <thead>\n",
              "    <tr style=\"text-align: right;\">\n",
              "      <th></th>\n",
              "      <th>Recency</th>\n",
              "      <th>Frequency</th>\n",
              "      <th>Monetary</th>\n",
              "      <th>k_cluster</th>\n",
              "    </tr>\n",
              "    <tr>\n",
              "      <th>CustomerID</th>\n",
              "      <th></th>\n",
              "      <th></th>\n",
              "      <th></th>\n",
              "      <th></th>\n",
              "    </tr>\n",
              "  </thead>\n",
              "  <tbody>\n",
              "    <tr>\n",
              "      <th>12346.0</th>\n",
              "      <td>317</td>\n",
              "      <td>1</td>\n",
              "      <td>77183.60</td>\n",
              "      <td>0</td>\n",
              "    </tr>\n",
              "    <tr>\n",
              "      <th>12347.0</th>\n",
              "      <td>31</td>\n",
              "      <td>171</td>\n",
              "      <td>4085.18</td>\n",
              "      <td>2</td>\n",
              "    </tr>\n",
              "    <tr>\n",
              "      <th>12348.0</th>\n",
              "      <td>67</td>\n",
              "      <td>31</td>\n",
              "      <td>1797.24</td>\n",
              "      <td>0</td>\n",
              "    </tr>\n",
              "    <tr>\n",
              "      <th>12349.0</th>\n",
              "      <td>10</td>\n",
              "      <td>73</td>\n",
              "      <td>1757.55</td>\n",
              "      <td>2</td>\n",
              "    </tr>\n",
              "    <tr>\n",
              "      <th>12350.0</th>\n",
              "      <td>302</td>\n",
              "      <td>17</td>\n",
              "      <td>334.40</td>\n",
              "      <td>1</td>\n",
              "    </tr>\n",
              "  </tbody>\n",
              "</table>\n",
              "</div>"
            ],
            "text/plain": [
              "            Recency  Frequency  Monetary  k_cluster\n",
              "CustomerID                                         \n",
              "12346.0         317          1  77183.60          0\n",
              "12347.0          31        171   4085.18          2\n",
              "12348.0          67         31   1797.24          0\n",
              "12349.0          10         73   1757.55          2\n",
              "12350.0         302         17    334.40          1"
            ]
          },
          "metadata": {
            "tags": []
          },
          "execution_count": 68
        }
      ]
    },
    {
      "cell_type": "markdown",
      "metadata": {
        "id": "kt1JmKOgUFiW",
        "colab_type": "text"
      },
      "source": [
        "According to the above results, find the value users with k_cluster=2, future study can be conducted with analysis on the value behavior of the value user, such as consumption habits (shopping frequency and time), types of goods that value customers like to buy, relevance of shopping types (products you like to buy together), etc. It can provide value users with a personalized consumption plan therfore a consumer-centric intelligent business model for value users can be achieved.\n",
        "\n",
        "Here we use the unsupervised type of machine learning, K-Means algorithm. This unsupervised machine learning does not produce a predict value. If we want to verify the validity and accuracy of the above-mentioned RFM model and K-Means algorithm for value user mining, it can be achieved by implementing actual strategy and verified against the actual situation."
      ]
    },
    {
      "cell_type": "markdown",
      "metadata": {
        "id": "w3UGeh1HUQBm",
        "colab_type": "text"
      },
      "source": [
        "**10. Mining Results**"
      ]
    },
    {
      "cell_type": "code",
      "metadata": {
        "id": "xnGRBFIOUXeK",
        "colab_type": "code",
        "outputId": "e899779b-8afc-4a28-e720-e7b158dbaf17",
        "colab": {
          "base_uri": "https://localhost:8080/",
          "height": 204
        }
      },
      "source": [
        "#10.1 Value Customer Portrait\n",
        "#Users have already been clustered.\n",
        "#we will then look at the consumer behavior characteristics of different groups.\n",
        "\n",
        "#The results of grouping using RFM models and scoring methods show that for value customers the average value of the most recent consumption is 20.8 days, \n",
        "#the average shopping frequency is 217.3 times, and the average money spend is 5056.7 pounds.\n",
        "\n",
        "# cov = coefficient of variance\n",
        "def cov(x):\n",
        "    return np.std(x)/np.mean(x)\n",
        "\n",
        "rfm.groupby('General_Segment').agg({'Recency':['mean','std',cov],'Frequency':['mean','std',cov],'Monetary':['mean','std',cov]}).round(1)"
      ],
      "execution_count": 0,
      "outputs": [
        {
          "output_type": "execute_result",
          "data": {
            "text/html": [
              "<div>\n",
              "<style scoped>\n",
              "    .dataframe tbody tr th:only-of-type {\n",
              "        vertical-align: middle;\n",
              "    }\n",
              "\n",
              "    .dataframe tbody tr th {\n",
              "        vertical-align: top;\n",
              "    }\n",
              "\n",
              "    .dataframe thead tr th {\n",
              "        text-align: left;\n",
              "    }\n",
              "\n",
              "    .dataframe thead tr:last-of-type th {\n",
              "        text-align: right;\n",
              "    }\n",
              "</style>\n",
              "<table border=\"1\" class=\"dataframe\">\n",
              "  <thead>\n",
              "    <tr>\n",
              "      <th></th>\n",
              "      <th colspan=\"3\" halign=\"left\">Recency</th>\n",
              "      <th colspan=\"3\" halign=\"left\">Frequency</th>\n",
              "      <th colspan=\"3\" halign=\"left\">Monetary</th>\n",
              "    </tr>\n",
              "    <tr>\n",
              "      <th></th>\n",
              "      <th>mean</th>\n",
              "      <th>std</th>\n",
              "      <th>cov</th>\n",
              "      <th>mean</th>\n",
              "      <th>std</th>\n",
              "      <th>cov</th>\n",
              "      <th>mean</th>\n",
              "      <th>std</th>\n",
              "      <th>cov</th>\n",
              "    </tr>\n",
              "    <tr>\n",
              "      <th>General_Segment</th>\n",
              "      <th></th>\n",
              "      <th></th>\n",
              "      <th></th>\n",
              "      <th></th>\n",
              "      <th></th>\n",
              "      <th></th>\n",
              "      <th></th>\n",
              "      <th></th>\n",
              "      <th></th>\n",
              "    </tr>\n",
              "  </thead>\n",
              "  <tbody>\n",
              "    <tr>\n",
              "      <th>Bronze</th>\n",
              "      <td>191.0</td>\n",
              "      <td>100.8</td>\n",
              "      <td>0.5</td>\n",
              "      <td>14.6</td>\n",
              "      <td>11.4</td>\n",
              "      <td>0.8</td>\n",
              "      <td>263.0</td>\n",
              "      <td>177.7</td>\n",
              "      <td>0.7</td>\n",
              "    </tr>\n",
              "    <tr>\n",
              "      <th>Gold</th>\n",
              "      <td>20.8</td>\n",
              "      <td>22.5</td>\n",
              "      <td>1.1</td>\n",
              "      <td>217.3</td>\n",
              "      <td>360.6</td>\n",
              "      <td>1.7</td>\n",
              "      <td>5056.7</td>\n",
              "      <td>14721.6</td>\n",
              "      <td>2.9</td>\n",
              "    </tr>\n",
              "    <tr>\n",
              "      <th>Silver</th>\n",
              "      <td>71.3</td>\n",
              "      <td>70.9</td>\n",
              "      <td>1.0</td>\n",
              "      <td>47.4</td>\n",
              "      <td>36.1</td>\n",
              "      <td>0.8</td>\n",
              "      <td>949.4</td>\n",
              "      <td>2433.2</td>\n",
              "      <td>2.6</td>\n",
              "    </tr>\n",
              "  </tbody>\n",
              "</table>\n",
              "</div>"
            ],
            "text/plain": [
              "                Recency             Frequency  ...      Monetary              \n",
              "                   mean    std  cov      mean  ...  cov     mean      std  cov\n",
              "General_Segment                                ...                            \n",
              "Bronze            191.0  100.8  0.5      14.6  ...  0.8    263.0    177.7  0.7\n",
              "Gold               20.8   22.5  1.1     217.3  ...  1.7   5056.7  14721.6  2.9\n",
              "Silver             71.3   70.9  1.0      47.4  ...  0.8    949.4   2433.2  2.6\n",
              "\n",
              "[3 rows x 9 columns]"
            ]
          },
          "metadata": {
            "tags": []
          },
          "execution_count": 69
        }
      ]
    },
    {
      "cell_type": "code",
      "metadata": {
        "id": "1qejYn_IU6xA",
        "colab_type": "code",
        "outputId": "4ed615e0-b017-4e5e-da74-b8a8220b96ce",
        "colab": {
          "base_uri": "https://localhost:8080/",
          "height": 204
        }
      },
      "source": [
        "# cov = coefficient of variance\n",
        "#The above results are obtained using the K-Means method. \n",
        "#The average value of the value user's last consumption is 16.8 days, \n",
        "#the average shopping frequency is 244.2 times, and the average cost is 5916.3 pounds. \n",
        "#The result is better than using the scoring method.\n",
        "\n",
        "def cov(x):\n",
        "    return np.std(x)/np.mean(x)\n",
        "\n",
        "rfm_k3_sta=rfm_k3.groupby('k_cluster').agg({'Recency':['mean','std',cov],'Frequency':['mean','std',cov],'Monetary':['mean','std',cov]}).round(1)\n",
        "rfm_k3_sta   "
      ],
      "execution_count": 0,
      "outputs": [
        {
          "output_type": "execute_result",
          "data": {
            "text/html": [
              "<div>\n",
              "<style scoped>\n",
              "    .dataframe tbody tr th:only-of-type {\n",
              "        vertical-align: middle;\n",
              "    }\n",
              "\n",
              "    .dataframe tbody tr th {\n",
              "        vertical-align: top;\n",
              "    }\n",
              "\n",
              "    .dataframe thead tr th {\n",
              "        text-align: left;\n",
              "    }\n",
              "\n",
              "    .dataframe thead tr:last-of-type th {\n",
              "        text-align: right;\n",
              "    }\n",
              "</style>\n",
              "<table border=\"1\" class=\"dataframe\">\n",
              "  <thead>\n",
              "    <tr>\n",
              "      <th></th>\n",
              "      <th colspan=\"3\" halign=\"left\">Recency</th>\n",
              "      <th colspan=\"3\" halign=\"left\">Frequency</th>\n",
              "      <th colspan=\"3\" halign=\"left\">Monetary</th>\n",
              "    </tr>\n",
              "    <tr>\n",
              "      <th></th>\n",
              "      <th>mean</th>\n",
              "      <th>std</th>\n",
              "      <th>cov</th>\n",
              "      <th>mean</th>\n",
              "      <th>std</th>\n",
              "      <th>cov</th>\n",
              "      <th>mean</th>\n",
              "      <th>std</th>\n",
              "      <th>cov</th>\n",
              "    </tr>\n",
              "    <tr>\n",
              "      <th>k_cluster</th>\n",
              "      <th></th>\n",
              "      <th></th>\n",
              "      <th></th>\n",
              "      <th></th>\n",
              "      <th></th>\n",
              "      <th></th>\n",
              "      <th></th>\n",
              "      <th></th>\n",
              "      <th></th>\n",
              "    </tr>\n",
              "  </thead>\n",
              "  <tbody>\n",
              "    <tr>\n",
              "      <th>0</th>\n",
              "      <td>67.2</td>\n",
              "      <td>66.9</td>\n",
              "      <td>1.0</td>\n",
              "      <td>58.0</td>\n",
              "      <td>39.4</td>\n",
              "      <td>0.7</td>\n",
              "      <td>1053.8</td>\n",
              "      <td>2385.6</td>\n",
              "      <td>2.3</td>\n",
              "    </tr>\n",
              "    <tr>\n",
              "      <th>1</th>\n",
              "      <td>173.9</td>\n",
              "      <td>106.5</td>\n",
              "      <td>0.6</td>\n",
              "      <td>14.6</td>\n",
              "      <td>11.1</td>\n",
              "      <td>0.8</td>\n",
              "      <td>289.9</td>\n",
              "      <td>269.4</td>\n",
              "      <td>0.9</td>\n",
              "    </tr>\n",
              "    <tr>\n",
              "      <th>2</th>\n",
              "      <td>16.6</td>\n",
              "      <td>18.9</td>\n",
              "      <td>1.1</td>\n",
              "      <td>244.1</td>\n",
              "      <td>394.7</td>\n",
              "      <td>1.6</td>\n",
              "      <td>5914.5</td>\n",
              "      <td>16208.2</td>\n",
              "      <td>2.7</td>\n",
              "    </tr>\n",
              "  </tbody>\n",
              "</table>\n",
              "</div>"
            ],
            "text/plain": [
              "          Recency             Frequency             Monetary              \n",
              "             mean    std  cov      mean    std  cov     mean      std  cov\n",
              "k_cluster                                                                 \n",
              "0            67.2   66.9  1.0      58.0   39.4  0.7   1053.8   2385.6  2.3\n",
              "1           173.9  106.5  0.6      14.6   11.1  0.8    289.9    269.4  0.9\n",
              "2            16.6   18.9  1.1     244.1  394.7  1.6   5914.5  16208.2  2.7"
            ]
          },
          "metadata": {
            "tags": []
          },
          "execution_count": 70
        }
      ]
    },
    {
      "cell_type": "code",
      "metadata": {
        "id": "_OP7zzlMVMmD",
        "colab_type": "code",
        "outputId": "8d830c10-68f0-46db-ba91-44d0af1d6ece",
        "colab": {
          "base_uri": "https://localhost:8080/",
          "height": 536
        }
      },
      "source": [
        "#10.2 Value Customer Contribution to Total Sales\n",
        "# different customer category and the number of customer using K-means\n",
        "customer_num=rfm_k3.groupby('k_cluster').agg({'Recency':['count']})\n",
        "# pie figure\n",
        "fig=plt.figure(figsize=(6,9))\n",
        "test=[1815,1462,1020]\n",
        "labels = [u'cluster0',u'cluster1',u'cluster2']\n",
        "colors=['red','yellow','green']\n",
        "patches,text1,text2 = plt.pie(test,\n",
        "                      labels=labels,\n",
        "                      colors=colors,\n",
        "                      autopct = '%3.2f%%',\n",
        "                      labeldistance = 1.2,\n",
        "                      shadow=False,\n",
        "                      startangle=90,\n",
        "                      pctdistance = 0.6)\n",
        "plt.axis('equal')\n",
        "plt.legend()\n",
        "plt.title('Customer Segment in %')\n",
        "plt.show()\n",
        "fig.savefig('segmentINpercent.png')"
      ],
      "execution_count": 0,
      "outputs": [
        {
          "output_type": "display_data",
          "data": {
            "image/png": "[encoded data removed]",
            "text/plain": [
              "<Figure size 432x648 with 1 Axes>"
            ]
          },
          "metadata": {
            "tags": []
          }
        }
      ]
    },
    {
      "cell_type": "code",
      "metadata": {
        "id": "52o89nmiVdWW",
        "colab_type": "code",
        "outputId": "c8337adb-d595-43bf-e899-0732af7f7cdb",
        "colab": {
          "base_uri": "https://localhost:8080/",
          "height": 536
        }
      },
      "source": [
        "#The above figure shows the clustering results. According to the value contribution, the ranking is cluster2, cluster0, cluster1, and the value customer is defined as cluster2 which accounts for 23.74%. \n",
        "#Let's look at the contribution of different user groups to sales.\n",
        "\n",
        "# different customer category and associated sales using K-means\n",
        "customer_sales=rfm_k3.groupby('k_cluster').agg({'Monetary':['sum']})\n",
        "# pie figure\n",
        "fig=plt.figure(figsize=(6,9))\n",
        "test=[1911297.113,424054.261,6034667.080]\n",
        "labels = [u'cluster0',u'cluster1',u'cluster2']\n",
        "colors=['red','yellow','green']\n",
        "patches,text1,text2 = plt.pie(test,\n",
        "                      labels=labels,\n",
        "                      colors=colors,\n",
        "                      autopct = '%3.2f%%',\n",
        "                      labeldistance = 1.2,\n",
        "                      shadow=False,\n",
        "                      startangle=90,\n",
        "                      pctdistance = 0.6)\n",
        "plt.axis('equal')\n",
        "plt.legend()\n",
        "plt.title('Customer Segment assocated sales in %')\n",
        "plt.show()\n",
        "fig.savefig('segmentSales.png')"
      ],
      "execution_count": 0,
      "outputs": [
        {
          "output_type": "display_data",
          "data": {
            "image/png": "[encoded data removed]",
            "text/plain": [
              "<Figure size 432x648 with 1 Axes>"
            ]
          },
          "metadata": {
            "tags": []
          }
        }
      ]
    },
    {
      "cell_type": "markdown",
      "metadata": {
        "id": "__sD_RgBVmWB",
        "colab_type": "text"
      },
      "source": [
        "This analysis uses Python language to analyze and mine e-commerce value customers. There are two main aspects of this data analysis: (1) describing statistical analysis; (2) using two methods, i.e. RFM model and K-Means machine learning algorithm to mine Value user.\n",
        "\n",
        "(1) By calculate the descriptive statistical indictors, we can learn the overall operation of the e-commerce companies. Operational indicators, such as the monthly sales volume, monthly sales total, monthly average sales, weekly sales volume, weekly sales total, weekly average sales, and sales per customer are calculated. Through these indicators, we learned that the e-commerce company's monthly sales orders and monthly sales increased significantly in September, October and November 2011, and weekly sales has the highest value on Thursday.\n",
        "\n",
        "(2) In order to mine value users, we use two methods, the first method is using the RFM model and rating to “manually” classify users, and the second method is using the K-Means machine learning algorithm to automatically mine value users. Comparing the results of the user's portraits obtained by the two methods, the K-Means method yielded better results. The value of the users that were eventually mined accounted for 23.74% but contributed 72.10% of the sales.\n",
        "\n",
        "Further study can be conducted to learn the consumption habits of value users to provide a consumer-centric intelligent business model. Of course, this needs to be iteratively improved according to the actual application in order to optimize the value user mining process."
      ]
    }
  ]
}